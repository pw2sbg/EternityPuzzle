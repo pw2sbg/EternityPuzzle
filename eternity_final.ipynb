{
  "cells": [
    {
      "cell_type": "markdown",
      "metadata": {
        "id": "kAq7rNaMQnQ-"
      },
      "source": [
        "# Class Puzzle"
      ]
    },
    {
      "cell_type": "code",
      "execution_count": 1,
      "metadata": {
        "id": "jHL4mOgkQp9q"
      },
      "outputs": [],
      "source": [
        "class Puzzle: \n",
        "\n",
        "  def __init__(self, file):\n",
        "    with open(file, \"r\") as f:\n",
        "        self.pieces = [line.split() for line in f]\n",
        "    #Convert str to int\n",
        "    for piece in self.pieces:\n",
        "      for i in range(len(piece)):\n",
        "        piece[i] = int(piece[i])\n",
        "    self.rows, self.columns = self.pieces.pop(0)\n",
        "    self.categorize()\n",
        "    self.build()\n",
        "    self.match()\n",
        "    \n",
        "  def categorize(self):\n",
        "    self.corners, self.edges, self.others = [], [], []\n",
        "    for piece in self.pieces:\n",
        "      count = 0\n",
        "      for i in range(len(piece)):\n",
        "        if piece[i] == 0:\n",
        "          count += 1\n",
        "      if count == 2:\n",
        "        self.corners.append(piece)\n",
        "      elif count == 1:\n",
        "        self.edges.append(piece)\n",
        "      else:\n",
        "        self.others.append(piece)\n",
        "\n",
        "  def rotate(self, piece, angle):\n",
        "    rotated_piece = []\n",
        "    for i in range(angle, len(piece)+angle):\n",
        "      if i%(len(piece)) == 0:\n",
        "        rotated_piece.append(piece[0])\n",
        "      elif i%(len(piece)) == 1:\n",
        "        rotated_piece.append(piece[1])\n",
        "      elif i%(len(piece)) == 2:\n",
        "        rotated_piece.append(piece[2])\n",
        "      elif i%(len(piece)) == 3:\n",
        "        rotated_piece.append(piece[3])\n",
        "    return rotated_piece\n",
        "\n",
        "  def correct(self, piece, row, column):\n",
        "    angle = 0\n",
        "    if row == 0:\n",
        "      if column == 0:  #top left\n",
        "        while (piece[1] != 0) or (piece[2] != 0):\n",
        "          angle += 1\n",
        "          piece = self.rotate(piece, 1)\n",
        "      elif column == self.columns-1:  #top right\n",
        "        while (piece[2] != 0) or (piece[3] != 0):\n",
        "          angle += 1\n",
        "          piece = self.rotate(piece, 1)\n",
        "      else: #top edges\n",
        "        while piece[2] != 0:\n",
        "          angle += 1\n",
        "          piece = self.rotate(piece, 1)\n",
        "    elif row == self.rows-1:\n",
        "      if column == 0:  #bottom left\n",
        "        while (piece[0] != 0) or (piece[1] != 0):\n",
        "          angle += 1\n",
        "          piece = self.rotate(piece, 1)\n",
        "      elif column == self.columns-1:  #bottom right\n",
        "        while (piece[0] != 0) or (piece[3] != 0):\n",
        "          angle += 1\n",
        "          piece = self.rotate(piece, 1)\n",
        "      else: #bottom edges\n",
        "        while piece[0] != 0:\n",
        "          angle += 1\n",
        "          piece = self.rotate(piece, 1)\n",
        "    else:\n",
        "      if column == 0: #left edges\n",
        "        while piece[1] != 0:\n",
        "          angle += 1\n",
        "          piece = self.rotate(piece, 1)\n",
        "      elif column == self.columns-1: #right edges\n",
        "        while piece[3] != 0:\n",
        "          angle += 1\n",
        "          piece = self.rotate(piece, 1)\n",
        "    #Add the index of the piece\n",
        "    initial_piece = self.rotate(piece, len(piece)-angle)\n",
        "    piece_idx = self.pieces.index(initial_piece)\n",
        "    return ((piece_idx, angle), piece)\n",
        "\n",
        "  def build(self):\n",
        "    self.puzzle = []\n",
        "    for i in range (self.rows):\n",
        "      sub_puzzle = []\n",
        "      for j in range (self.columns):\n",
        "        if (i == 0 or i == self.rows-1):\n",
        "          if (j == 0 or j == self.columns-1):\n",
        "            sub_puzzle.append(self.correct(self.corners.pop(random.randint(0, len(self.corners)-1)), i, j))\n",
        "          else:\n",
        "            sub_puzzle.append(self.correct(self.edges.pop(random.randint(0, len(self.edges)-1)), i, j))\n",
        "        elif (j == 0 or j == self.columns-1):\n",
        "          sub_puzzle.append(self.correct(self.edges.pop(random.randint(0, len(self.edges)-1)), i, j))\n",
        "        else:\n",
        "          sub_puzzle.append(self.correct(self.others.pop(random.randint(0, len(self.others)-1)), i, j))\n",
        "      self.puzzle.append(sub_puzzle)\n",
        "\n",
        "  def match(self):\n",
        "    self.score = 0\n",
        "    for i in range (len(self.puzzle)):\n",
        "      for j in range (len(self.puzzle[i])-1):\n",
        "        #print(puzzle[i][j][1], puzzle[i][j+1][1], (puzzle[i][j][1][3], puzzle[i][j+1][1][1]))\n",
        "        if self.puzzle[i][j][1][3] == self.puzzle[i][j+1][1][1]:\n",
        "          self.score += 1\n",
        "    #print()\n",
        "    for i in range (len(self.puzzle)-1):\n",
        "      for j in range (len(self.puzzle[i])):\n",
        "        #print(puzzle[i][j][1], puzzle[i+1][j][1], (puzzle[i][j][1][0], puzzle[i+1][j][1][2]))\n",
        "        if self.puzzle[i][j][1][0] == self.puzzle[i+1][j][1][2]:\n",
        "          self.score += 1"
      ]
    },
    {
      "cell_type": "markdown",
      "metadata": {
        "id": "qYvXWtUpm9Yr"
      },
      "source": [
        "J'avais commencé à implémenter une classe Puzzle mais finalement, je n'en ai pas eu besoin."
      ]
    },
    {
      "cell_type": "markdown",
      "metadata": {
        "id": "vYLPcX76-VIp"
      },
      "source": [
        "# Présentation du jeu et Paramètres"
      ]
    },
    {
      "cell_type": "markdown",
      "metadata": {
        "id": "V_dSzJmo6GNu"
      },
      "source": [
        "Le puzzle Eternity est un jeu de type casse-tête. \\\n",
        "Dans sa version originale, il est constitué de 256 pièces qu'il faut placer sur une grille de taille 16x16. \\\n",
        "Ces pièces comportent 4 chiffres, qu'il faut faire correspondre avec ceux des voisines. \\\n",
        "Cette règle, associée au nombre de pièces, rend encore plus grand le nombre de configurations possibles du puzzle, d'où sa complexe résolution. \\\n",
        "Pour l'anecdote, la première solution a été proposée par 2 étudiants en mathématiques après 5 mois de travail et de recherche !"
      ]
    },
    {
      "cell_type": "code",
      "execution_count": 31,
      "metadata": {
        "id": "WaDHlICaj5-w"
      },
      "outputs": [],
      "source": [
        "#Importation des librairies nécessaires\n",
        "\n",
        "import numpy as np\n",
        "import random\n",
        "import matplotlib.pyplot as plt\n",
        "import copy\n",
        "\n",
        "#Pour utiliser le programme:\n",
        "#Dans puzzle_file: saisissez le nom du fichier du puzzle que vous souhaitez, de la même manière qu'illustré.\n",
        "#itr représente le nombre d'itérations (il s'agit de mon critère de fin): saisissez le chiffre que vous souhaitez\n",
        "#Lancez le programme (\"Run\" dans Visual Code Studio)\n",
        "\n",
        "\n",
        "#Paramètres\n",
        "puzzle_file = \"pieces_set/pieces_10x10.txt\"\n",
        "itr = 100000"
      ]
    },
    {
      "cell_type": "markdown",
      "metadata": {
        "id": "hdHCJOfS-qKS"
      },
      "source": [
        "# Construction du puzzle"
      ]
    },
    {
      "cell_type": "code",
      "execution_count": 32,
      "metadata": {
        "id": "j-PWkAoXWVIO"
      },
      "outputs": [],
      "source": [
        "def features(file):\n",
        "  with open(file, \"r\") as f:\n",
        "      pieces = [line.split() for line in f]\n",
        "  #Convert str to int\n",
        "  for piece in pieces:\n",
        "    for i in range(len(piece)):\n",
        "      piece[i] = int(piece[i])\n",
        "  rows, columns = pieces.pop(0)\n",
        "  return (rows, columns, pieces)"
      ]
    },
    {
      "cell_type": "markdown",
      "metadata": {
        "id": "f--A6aD0Biwn"
      },
      "source": [
        "La méthode \"features\" lit le fichier contenant les caractéristiques du puzzle (lignes, colonnes et pièces) qu'elle renvoie."
      ]
    },
    {
      "cell_type": "code",
      "execution_count": 33,
      "metadata": {
        "id": "rk3-a6CgD3sh"
      },
      "outputs": [],
      "source": [
        "puzzle_height, puzzle_width, puzzle_pieces = features(puzzle_file)"
      ]
    },
    {
      "cell_type": "code",
      "execution_count": 34,
      "metadata": {
        "colab": {
          "base_uri": "https://localhost:8080/"
        },
        "id": "RiUr30roERZ4",
        "outputId": "1ca4c836-3a91-468e-ecbe-f76677fe806c"
      },
      "outputs": [
        {
          "name": "stdout",
          "output_type": "stream",
          "text": [
            "10\n",
            "10\n",
            "[[0, 0, 1, 2], [0, 0, 2, 3], [0, 0, 2, 4], [0, 0, 4, 2], [0, 1, 5, 2], [0, 1, 7, 1], [0, 1, 7, 4], [0, 1, 8, 1], [0, 1, 9, 1], [0, 1, 9, 4], [0, 1, 10, 3], [0, 1, 14, 1], [0, 2, 6, 3], [0, 2, 6, 4], [0, 2, 7, 4], [0, 2, 9, 4], [0, 2, 10, 3], [0, 2, 13, 2], [0, 2, 14, 3], [0, 3, 6, 1], [0, 3, 6, 2], [0, 3, 9, 2], [0, 3, 10, 3], [0, 3, 11, 4], [0, 3, 12, 1], [0, 3, 13, 1], [0, 3, 14, 1], [0, 3, 14, 3], [0, 4, 7, 2], [0, 4, 7, 3], [0, 4, 10, 4], [0, 4, 11, 1], [0, 4, 11, 2], [0, 4, 11, 4], [0, 4, 12, 3], [0, 4, 14, 2], [5, 5, 10, 11], [5, 6, 5, 14], [5, 6, 7, 10], [5, 6, 10, 10], [5, 6, 12, 12], [5, 6, 12, 13], [5, 7, 5, 10], [5, 8, 6, 9], [5, 8, 7, 6], [5, 8, 8, 12], [5, 8, 9, 7], [5, 8, 11, 14], [5, 8, 14, 6], [5, 9, 9, 8], [5, 9, 11, 14], [5, 10, 12, 12], [5, 10, 13, 8], [5, 10, 13, 11], [5, 11, 5, 12], [5, 11, 6, 6], [5, 11, 7, 11], [5, 14, 6, 7], [5, 14, 6, 13], [5, 14, 9, 12], [5, 14, 10, 10], [6, 6, 14, 10], [6, 7, 6, 10], [6, 7, 6, 12], [6, 7, 11, 8], [6, 8, 11, 12], [6, 9, 9, 8], [6, 10, 12, 11], [6, 12, 14, 7], [6, 13, 10, 11], [6, 13, 11, 10], [6, 13, 12, 7], [7, 7, 7, 14], [7, 7, 8, 8], [7, 8, 7, 13], [7, 8, 7, 14], [7, 8, 9, 8], [7, 9, 10, 12], [7, 9, 11, 13], [7, 10, 11, 13], [7, 12, 12, 9], [8, 8, 12, 12], [8, 10, 11, 13], [8, 11, 10, 9], [8, 11, 10, 14], [8, 11, 13, 11], [8, 12, 13, 9], [8, 12, 13, 14], [8, 12, 14, 10], [8, 14, 9, 9], [8, 14, 9, 13], [9, 9, 12, 13], [9, 11, 10, 14], [9, 13, 11, 13], [9, 13, 12, 14], [9, 13, 13, 14], [9, 14, 11, 13], [10, 11, 13, 14], [10, 12, 12, 12], [13, 13, 13, 14]]\n"
          ]
        }
      ],
      "source": [
        "print(puzzle_height)\n",
        "print(puzzle_width) \n",
        "print(puzzle_pieces)"
      ]
    },
    {
      "cell_type": "code",
      "execution_count": 35,
      "metadata": {
        "id": "LNyPZiMyxgzn"
      },
      "outputs": [],
      "source": [
        "def categories(pieces):\n",
        "  corners, edges, others = [], [], []\n",
        "  for piece in pieces:\n",
        "    count = 0\n",
        "    for i in range(len(piece)):\n",
        "      if piece[i] == 0:\n",
        "        count += 1\n",
        "    if count == 2:\n",
        "      corners.append(piece)\n",
        "    elif count == 1:\n",
        "      edges.append(piece)\n",
        "    else:\n",
        "      others.append(piece)\n",
        "  return (corners, edges, others)"
      ]
    },
    {
      "cell_type": "markdown",
      "metadata": {
        "id": "SuopiEzLCSAW"
      },
      "source": [
        "Dans notre cas, la règle impose que les zéros forment le contour extérieur du puzzle. Sachant qu'une pièce est constituée de 4 chiffres, on en déduit que: \\\n",
        "- il existe 3 types de pièces: des pièces de \"coin\" (\"corners\"), des pièces de \"bord\" (\"edges\") et des pièces centrales (\"others\")\n",
        "- les pièces de \"coin\" contiennent 2 zéros\n",
        "- les pièces de \"bord\" contiennent 1 zéro\n",
        "- les pièces centrales ne contiennent aucun zéro \\\n",
        "\n",
        "La méthode \"features\" fonctionne ainsi de la manière suivante: \\\n",
        "Je parcours toutes les pièces du puzzle. Pour chacune d'entre elles, je compte le nombre de zéros. Si elle en contient 2, c'est un coin; si elle en contient 1, c'est un bord; sinon, c'est une pièce centrale.\n"
      ]
    },
    {
      "cell_type": "code",
      "execution_count": 36,
      "metadata": {
        "id": "e9PUNUIoEu6o"
      },
      "outputs": [],
      "source": [
        "puzzle_corners, puzzle_edges, puzzle_others = categories(puzzle_pieces)"
      ]
    },
    {
      "cell_type": "code",
      "execution_count": 37,
      "metadata": {
        "colab": {
          "base_uri": "https://localhost:8080/"
        },
        "id": "OIY7WXpOFGWP",
        "outputId": "34fcf34d-e3ab-4daf-dcf6-80e6434ba70e"
      },
      "outputs": [
        {
          "name": "stdout",
          "output_type": "stream",
          "text": [
            "[[0, 0, 1, 2], [0, 0, 2, 3], [0, 0, 2, 4], [0, 0, 4, 2]]\n",
            "[[0, 1, 5, 2], [0, 1, 7, 1], [0, 1, 7, 4], [0, 1, 8, 1], [0, 1, 9, 1], [0, 1, 9, 4], [0, 1, 10, 3], [0, 1, 14, 1], [0, 2, 6, 3], [0, 2, 6, 4], [0, 2, 7, 4], [0, 2, 9, 4], [0, 2, 10, 3], [0, 2, 13, 2], [0, 2, 14, 3], [0, 3, 6, 1], [0, 3, 6, 2], [0, 3, 9, 2], [0, 3, 10, 3], [0, 3, 11, 4], [0, 3, 12, 1], [0, 3, 13, 1], [0, 3, 14, 1], [0, 3, 14, 3], [0, 4, 7, 2], [0, 4, 7, 3], [0, 4, 10, 4], [0, 4, 11, 1], [0, 4, 11, 2], [0, 4, 11, 4], [0, 4, 12, 3], [0, 4, 14, 2]]\n",
            "[[5, 5, 10, 11], [5, 6, 5, 14], [5, 6, 7, 10], [5, 6, 10, 10], [5, 6, 12, 12], [5, 6, 12, 13], [5, 7, 5, 10], [5, 8, 6, 9], [5, 8, 7, 6], [5, 8, 8, 12], [5, 8, 9, 7], [5, 8, 11, 14], [5, 8, 14, 6], [5, 9, 9, 8], [5, 9, 11, 14], [5, 10, 12, 12], [5, 10, 13, 8], [5, 10, 13, 11], [5, 11, 5, 12], [5, 11, 6, 6], [5, 11, 7, 11], [5, 14, 6, 7], [5, 14, 6, 13], [5, 14, 9, 12], [5, 14, 10, 10], [6, 6, 14, 10], [6, 7, 6, 10], [6, 7, 6, 12], [6, 7, 11, 8], [6, 8, 11, 12], [6, 9, 9, 8], [6, 10, 12, 11], [6, 12, 14, 7], [6, 13, 10, 11], [6, 13, 11, 10], [6, 13, 12, 7], [7, 7, 7, 14], [7, 7, 8, 8], [7, 8, 7, 13], [7, 8, 7, 14], [7, 8, 9, 8], [7, 9, 10, 12], [7, 9, 11, 13], [7, 10, 11, 13], [7, 12, 12, 9], [8, 8, 12, 12], [8, 10, 11, 13], [8, 11, 10, 9], [8, 11, 10, 14], [8, 11, 13, 11], [8, 12, 13, 9], [8, 12, 13, 14], [8, 12, 14, 10], [8, 14, 9, 9], [8, 14, 9, 13], [9, 9, 12, 13], [9, 11, 10, 14], [9, 13, 11, 13], [9, 13, 12, 14], [9, 13, 13, 14], [9, 14, 11, 13], [10, 11, 13, 14], [10, 12, 12, 12], [13, 13, 13, 14]]\n"
          ]
        }
      ],
      "source": [
        "print(puzzle_corners)\n",
        "print(puzzle_edges)\n",
        "print(puzzle_others)"
      ]
    },
    {
      "cell_type": "code",
      "execution_count": 38,
      "metadata": {
        "id": "wuovfhZM1YA6"
      },
      "outputs": [],
      "source": [
        "def rotate(piece, angle):\n",
        "  rotated_piece = []\n",
        "  for i in range(angle, len(piece)+angle):\n",
        "    if i%(len(piece)) == 0:\n",
        "      rotated_piece.append(piece[0])\n",
        "    elif i%(len(piece)) == 1:\n",
        "      rotated_piece.append(piece[1])\n",
        "    elif i%(len(piece)) == 2:\n",
        "      rotated_piece.append(piece[2])\n",
        "    elif i%(len(piece)) == 3:\n",
        "      rotated_piece.append(piece[3])\n",
        "  return rotated_piece"
      ]
    },
    {
      "cell_type": "code",
      "execution_count": 39,
      "metadata": {
        "id": "A3LS9vzdgNG_"
      },
      "outputs": [],
      "source": [
        "def correct(piece, row, column):\n",
        "  angle = 0\n",
        "  if row == 0:\n",
        "    if column == 0:  #top left\n",
        "      while (piece[1] != 0) or (piece[2] != 0):\n",
        "        angle += 1\n",
        "        piece = rotate(piece, 1)\n",
        "    elif column == puzzle_height-1:  #top right\n",
        "      while (piece[2] != 0) or (piece[3] != 0):\n",
        "        angle += 1\n",
        "        piece = rotate(piece, 1)\n",
        "    else: #top edges\n",
        "      while piece[2] != 0:\n",
        "        angle += 1\n",
        "        piece = rotate(piece, 1)\n",
        "  elif row == puzzle_width-1:\n",
        "    if column == 0:  #bottom left\n",
        "      while (piece[0] != 0) or (piece[1] != 0):\n",
        "        angle += 1\n",
        "        piece = rotate(piece, 1)\n",
        "    elif column == puzzle_height-1:  #bottom right\n",
        "      while (piece[0] != 0) or (piece[3] != 0):\n",
        "        angle += 1\n",
        "        piece = rotate(piece, 1)\n",
        "    else: #bottom edges\n",
        "      while piece[0] != 0:\n",
        "        angle += 1\n",
        "        piece = rotate(piece, 1)\n",
        "  else:\n",
        "    if column == 0: #left edges\n",
        "      while piece[1] != 0:\n",
        "        angle += 1\n",
        "        piece = rotate(piece, 1)\n",
        "    elif column == puzzle_height-1: #right edges\n",
        "      while piece[3] != 0:\n",
        "        angle += 1\n",
        "        piece = rotate(piece, 1)\n",
        "  #Add the index of the piece\n",
        "  initial_piece = rotate(piece, len(piece)-angle)\n",
        "  piece_idx = puzzle_pieces.index(initial_piece)\n",
        "  return [[piece_idx, angle], piece]"
      ]
    },
    {
      "cell_type": "markdown",
      "metadata": {
        "id": "S1w07zLrFxgo"
      },
      "source": [
        "Comme son nom l'indique, la fonction \"rotate\" permet la permutation circulaire d'une pièce selon un certain angle. \\\n",
        "J'utilise déjà cette méthode dans la fonction suivante: \"correct\". \\\n",
        "\n",
        "Voici comment celle-ci fonctionne: \\\n",
        "Grâce à la position (dans la suite du sujet, je m'efforcerai de parler d'indice) de la pièce dans le puzzle, on est capable de dire si celle-ci est correctement placée, ce qui est différent de positionner. Comme on sait que les \"coins\" et les \"bords\" sont les seules catégories de pièces contenant des zéros, et que ceux-ci doivent former la contour extérieur du puzzle, on peut d'office placer ces catégories de pièces de manière à ce qu'elles respectent ce critère. \\\n",
        "Pour résumer et le dire de manière plus claire: je fais en sorte de placer les 0 des pièces de \"coin\" et de \"bord\" à l'extérieur du puzzle.\n"
      ]
    },
    {
      "cell_type": "code",
      "execution_count": 40,
      "metadata": {
        "id": "An1W-09BK5fA"
      },
      "outputs": [],
      "source": [
        "def build():\n",
        "  puzzle = []\n",
        "  for i in range (puzzle_width):\n",
        "    sub_puzzle = []\n",
        "    for j in range (puzzle_height):\n",
        "      if (i == 0 or i == puzzle_width-1):\n",
        "        if (j == 0 or j == puzzle_height-1):\n",
        "          sub_puzzle.append(correct(puzzle_corners.pop(random.randint(0, len(puzzle_corners)-1)), i, j))\n",
        "        else:\n",
        "          sub_puzzle.append(correct(puzzle_edges.pop(random.randint(0, len(puzzle_edges)-1)), i, j))\n",
        "      elif (j == 0 or j == puzzle_height-1):\n",
        "        sub_puzzle.append(correct(puzzle_edges.pop(random.randint(0, len(puzzle_edges)-1)), i, j))\n",
        "      else:\n",
        "        sub_puzzle.append(correct(puzzle_others.pop(random.randint(0, len(puzzle_others)-1)), i, j))\n",
        "    puzzle.append(sub_puzzle)\n",
        "  return puzzle"
      ]
    },
    {
      "cell_type": "markdown",
      "metadata": {
        "id": "tC0opYzgOYJ6"
      },
      "source": [
        "Comme son nom l'indique, la fonction \"build\" permet de construire le puzzle initial de manière aléatoire mais avec les pièces de \"coin\" et de \"bord\" au bon endroit (et par conséquent les pièces centrales), et correctement placées. Je tiens à le rappeler: cela signifie seulement que les 0 sont à l'extérieur du puzzle."
      ]
    },
    {
      "cell_type": "code",
      "execution_count": 41,
      "metadata": {
        "id": "Bqx2O_QWgv5y"
      },
      "outputs": [],
      "source": [
        "p = build()"
      ]
    },
    {
      "cell_type": "code",
      "execution_count": 42,
      "metadata": {
        "colab": {
          "base_uri": "https://localhost:8080/"
        },
        "id": "RqpKFQiOg3GI",
        "outputId": "ba73226a-7fc4-4fc2-b8fb-12fe1d745500"
      },
      "outputs": [
        {
          "name": "stdout",
          "output_type": "stream",
          "text": [
            "[[[[1, 3], [3, 0, 0, 2]], [[29, 2], [7, 3, 0, 4]], [[28, 2], [7, 2, 0, 4]], [[22, 2], [10, 3, 0, 3]], [[10, 2], [10, 3, 0, 1]], [[23, 2], [11, 4, 0, 3]], [[15, 2], [9, 4, 0, 2]], [[20, 2], [6, 2, 0, 3]], [[5, 2], [7, 1, 0, 1]], [[0, 2], [1, 2, 0, 0]]], [[[16, 3], [3, 0, 2, 10]], [[82, 0], [8, 10, 11, 13]], [[70, 0], [6, 13, 11, 10]], [[54, 0], [5, 11, 5, 12]], [[72, 0], [7, 7, 7, 14]], [[90, 0], [8, 14, 9, 13]], [[76, 0], [7, 8, 9, 8]], [[93, 0], [9, 13, 11, 13]], [[40, 0], [5, 6, 12, 12]], [[19, 1], [3, 6, 1, 0]]], [[[32, 3], [2, 0, 4, 11]], [[81, 0], [8, 8, 12, 12]], [[44, 0], [5, 8, 7, 6]], [[86, 0], [8, 12, 13, 9]], [[65, 0], [6, 8, 11, 12]], [[39, 0], [5, 6, 10, 10]], [[97, 0], [10, 11, 13, 14]], [[85, 0], [8, 11, 13, 11]], [[52, 0], [5, 10, 13, 8]], [[14, 1], [2, 7, 4, 0]]], [[[7, 3], [1, 0, 1, 8]], [[66, 0], [6, 9, 9, 8]], [[37, 0], [5, 6, 5, 14]], [[43, 0], [5, 8, 6, 9]], [[45, 0], [5, 8, 8, 12]], [[50, 0], [5, 9, 11, 14]], [[75, 0], [7, 8, 7, 14]], [[55, 0], [5, 11, 6, 6]], [[96, 0], [9, 14, 11, 13]], [[26, 1], [3, 14, 1, 0]]], [[[17, 3], [2, 0, 2, 13]], [[68, 0], [6, 12, 14, 7]], [[38, 0], [5, 6, 7, 10]], [[84, 0], [8, 11, 10, 14]], [[60, 0], [5, 14, 10, 10]], [[99, 0], [13, 13, 13, 14]], [[69, 0], [6, 13, 10, 11]], [[95, 0], [9, 13, 13, 14]], [[51, 0], [5, 10, 12, 12]], [[11, 1], [1, 14, 1, 0]]], [[[25, 3], [1, 0, 3, 13]], [[73, 0], [7, 7, 8, 8]], [[61, 0], [6, 6, 14, 10]], [[41, 0], [5, 6, 12, 13]], [[87, 0], [8, 12, 13, 14]], [[46, 0], [5, 8, 9, 7]], [[83, 0], [8, 11, 10, 9]], [[64, 0], [6, 7, 11, 8]], [[94, 0], [9, 13, 12, 14]], [[18, 1], [2, 14, 3, 0]]], [[[4, 3], [2, 0, 1, 5]], [[80, 0], [7, 12, 12, 9]], [[74, 0], [7, 8, 7, 13]], [[92, 0], [9, 11, 10, 14]], [[56, 0], [5, 11, 7, 11]], [[59, 0], [5, 14, 9, 12]], [[62, 0], [6, 7, 6, 10]], [[89, 0], [8, 14, 9, 9]], [[71, 0], [6, 13, 12, 7]], [[33, 1], [4, 11, 4, 0]]], [[[30, 3], [4, 0, 4, 10]], [[77, 0], [7, 9, 10, 12]], [[36, 0], [5, 5, 10, 11]], [[42, 0], [5, 7, 5, 10]], [[53, 0], [5, 10, 13, 11]], [[49, 0], [5, 9, 9, 8]], [[63, 0], [6, 7, 6, 12]], [[79, 0], [7, 10, 11, 13]], [[58, 0], [5, 14, 6, 13]], [[13, 1], [2, 6, 4, 0]]], [[[31, 3], [1, 0, 4, 11]], [[98, 0], [10, 12, 12, 12]], [[47, 0], [5, 8, 11, 14]], [[48, 0], [5, 8, 14, 6]], [[91, 0], [9, 9, 12, 13]], [[57, 0], [5, 14, 6, 7]], [[67, 0], [6, 10, 12, 11]], [[78, 0], [7, 9, 11, 13]], [[88, 0], [8, 12, 14, 10]], [[6, 1], [1, 7, 4, 0]]], [[[3, 0], [0, 0, 4, 2]], [[34, 0], [0, 4, 12, 3]], [[24, 0], [0, 3, 12, 1]], [[8, 0], [0, 1, 9, 1]], [[27, 0], [0, 3, 14, 3]], [[12, 0], [0, 2, 6, 3]], [[21, 0], [0, 3, 9, 2]], [[35, 0], [0, 4, 14, 2]], [[9, 0], [0, 1, 9, 4]], [[2, 1], [0, 2, 4, 0]]]]\n"
          ]
        }
      ],
      "source": [
        "print(p)"
      ]
    },
    {
      "cell_type": "code",
      "execution_count": 43,
      "metadata": {
        "id": "GWlSGLY5eL9F"
      },
      "outputs": [],
      "source": [
        "def match(puzzle):\n",
        "  score = 0\n",
        "  for i in range (len(puzzle)):\n",
        "    for j in range (len(puzzle[i])-1):\n",
        "      #print(puzzle[i][j][1], puzzle[i][j+1][1], (puzzle[i][j][1][3], puzzle[i][j+1][1][1]))\n",
        "      if puzzle[i][j][1][3] == puzzle[i][j+1][1][1]:\n",
        "        score += 1\n",
        "  #print()\n",
        "  for i in range (len(puzzle)-1):\n",
        "    for j in range (len(puzzle[i])):\n",
        "      #print(puzzle[i][j][1], puzzle[i+1][j][1], (puzzle[i][j][1][0], puzzle[i+1][j][1][2]))\n",
        "      if puzzle[i][j][1][0] == puzzle[i+1][j][1][2]:\n",
        "        score += 1\n",
        "  return score"
      ]
    },
    {
      "cell_type": "markdown",
      "metadata": {
        "id": "LZnEvYfPPZJt"
      },
      "source": [
        "La méthode \"match\" permet d'évaluer le score d'un puzzle, c'est-à-dire les bords à bords qui correspondent. \\\n",
        "L'évaluation se fait sur les lignes, avant de se faire sur les colonnes. "
      ]
    },
    {
      "cell_type": "code",
      "execution_count": 44,
      "metadata": {
        "id": "R03Gs9GHZN-e"
      },
      "outputs": [],
      "source": [
        "score = match(p)"
      ]
    },
    {
      "cell_type": "code",
      "execution_count": 45,
      "metadata": {
        "colab": {
          "base_uri": "https://localhost:8080/"
        },
        "id": "v-yutPMgZRh1",
        "outputId": "f13eaf4d-1152-4fb1-9e37-4f754ca612be"
      },
      "outputs": [
        {
          "name": "stdout",
          "output_type": "stream",
          "text": [
            "19\n"
          ]
        }
      ],
      "source": [
        "print(score)"
      ]
    },
    {
      "cell_type": "markdown",
      "metadata": {
        "id": "TCryxtD4P_6W"
      },
      "source": [
        "# Modification du puzzle"
      ]
    },
    {
      "cell_type": "code",
      "execution_count": 46,
      "metadata": {
        "id": "yf0oDkFeUjNo"
      },
      "outputs": [],
      "source": [
        "def swap_1(puzzle):\n",
        "\n",
        "  piece_to_swap = random.choice([\"corner\", \"edge\", \"other\"])\n",
        "\n",
        "  if piece_to_swap == \"corner\":\n",
        "    i1, j1 = random.choice([0, len(puzzle)-1]), random.choice([0, len(puzzle[0])-1])\n",
        "    i2, j2 = random.choice([0, len(puzzle)-1]), random.choice([0, len(puzzle[0])-1])\n",
        "    while i2 == i1 and j2 == j1:\n",
        "      i2, j2 = random.choice([0, len(puzzle)-1]), random.choice([0, len(puzzle[0])-1])\n",
        "\n",
        "\n",
        "  elif piece_to_swap == \"edge\":\n",
        "    \n",
        "    i1 = random.randint(0, len(puzzle)-1)\n",
        "    if i1 == 0 or i1 == len(puzzle)-1:\n",
        "      j1 = random.randint(1, len(puzzle[0])-2)\n",
        "    else:\n",
        "      j1 = random.choice([0, len(puzzle[0])-1])\n",
        "    \n",
        "    i2 = random.randint(0, len(puzzle)-1)\n",
        "    if i2 == 0 or i2 == len(puzzle)-1:\n",
        "      j2 = random.randint(1, len(puzzle[0])-2)\n",
        "    else:\n",
        "      j2 = random.choice([0, len(puzzle[0])-1])\n",
        "    while i2 == i1 and j2 == j1:\n",
        "      i2 = random.randint(0, len(puzzle)-1)\n",
        "      if i2 == 0 or i2 == len(puzzle)-1:\n",
        "        j2 = random.randint(1, len(puzzle[0])-2)\n",
        "      else:\n",
        "        j2 = random.choice([0, len(puzzle[0])-1])\n",
        "\n",
        "\n",
        "  else:\n",
        "    i1, j1 = random.randint(1, len(puzzle)-2), random.randint(1, len(puzzle[0])-2)\n",
        "    i2, j2 = random.randint(1, len(puzzle)-2), random.randint(1, len(puzzle[0])-2)\n",
        "    while i2 == i1 and j2 == j1:\n",
        "      i2, j2 = random.randint(1, len(puzzle)-2), random.randint(1, len(puzzle[0])-2)\n",
        "\n",
        "  piece1, piece2 = puzzle[i1][j1], puzzle[i2][j2]\n",
        "  puzzle[i1][j1], puzzle[i2][j2] = correct(rotate(piece2[1], 4-piece2[0][1]), i1, j1), correct(rotate(piece1[1], 4-piece1[0][1]), i2, j2)\n",
        "\n",
        "  return puzzle"
      ]
    },
    {
      "cell_type": "code",
      "execution_count": 47,
      "metadata": {
        "id": "OYChmB5ZE1GS"
      },
      "outputs": [],
      "source": [
        "swapped_p = swap_1(copy.deepcopy(p))"
      ]
    },
    {
      "cell_type": "code",
      "execution_count": 48,
      "metadata": {
        "colab": {
          "base_uri": "https://localhost:8080/"
        },
        "id": "JmJYEUfHE8hs",
        "outputId": "ff361c3c-d265-45b1-f3b8-f2e7e4b368a1"
      },
      "outputs": [
        {
          "name": "stdout",
          "output_type": "stream",
          "text": [
            "[[[[1, 3], [3, 0, 0, 2]], [[29, 2], [7, 3, 0, 4]], [[28, 2], [7, 2, 0, 4]], [[22, 2], [10, 3, 0, 3]], [[10, 2], [10, 3, 0, 1]], [[23, 2], [11, 4, 0, 3]], [[15, 2], [9, 4, 0, 2]], [[20, 2], [6, 2, 0, 3]], [[5, 2], [7, 1, 0, 1]], [[0, 2], [1, 2, 0, 0]]], [[[16, 3], [3, 0, 2, 10]], [[82, 0], [8, 10, 11, 13]], [[70, 0], [6, 13, 11, 10]], [[54, 0], [5, 11, 5, 12]], [[72, 0], [7, 7, 7, 14]], [[90, 0], [8, 14, 9, 13]], [[76, 0], [7, 8, 9, 8]], [[93, 0], [9, 13, 11, 13]], [[40, 0], [5, 6, 12, 12]], [[19, 1], [3, 6, 1, 0]]], [[[32, 3], [2, 0, 4, 11]], [[81, 0], [8, 8, 12, 12]], [[44, 0], [5, 8, 7, 6]], [[86, 0], [8, 12, 13, 9]], [[65, 0], [6, 8, 11, 12]], [[39, 0], [5, 6, 10, 10]], [[97, 0], [10, 11, 13, 14]], [[85, 0], [8, 11, 13, 11]], [[52, 0], [5, 10, 13, 8]], [[14, 1], [2, 7, 4, 0]]], [[[7, 3], [1, 0, 1, 8]], [[66, 0], [6, 9, 9, 8]], [[37, 0], [5, 6, 5, 14]], [[43, 0], [5, 8, 6, 9]], [[45, 0], [5, 8, 8, 12]], [[50, 0], [5, 9, 11, 14]], [[75, 0], [7, 8, 7, 14]], [[55, 0], [5, 11, 6, 6]], [[96, 0], [9, 14, 11, 13]], [[26, 1], [3, 14, 1, 0]]], [[[17, 3], [2, 0, 2, 13]], [[68, 0], [6, 12, 14, 7]], [[38, 0], [5, 6, 7, 10]], [[84, 0], [8, 11, 10, 14]], [[60, 0], [5, 14, 10, 10]], [[99, 0], [13, 13, 13, 14]], [[69, 0], [6, 13, 10, 11]], [[95, 0], [9, 13, 13, 14]], [[51, 0], [5, 10, 12, 12]], [[11, 1], [1, 14, 1, 0]]], [[[25, 3], [1, 0, 3, 13]], [[73, 0], [7, 7, 8, 8]], [[61, 0], [6, 6, 14, 10]], [[41, 0], [5, 6, 12, 13]], [[87, 0], [8, 12, 13, 14]], [[46, 0], [5, 8, 9, 7]], [[83, 0], [8, 11, 10, 9]], [[64, 0], [6, 7, 11, 8]], [[94, 0], [9, 13, 12, 14]], [[18, 1], [2, 14, 3, 0]]], [[[4, 3], [2, 0, 1, 5]], [[80, 0], [7, 12, 12, 9]], [[74, 0], [7, 8, 7, 13]], [[92, 0], [9, 11, 10, 14]], [[56, 0], [5, 11, 7, 11]], [[59, 0], [5, 14, 9, 12]], [[62, 0], [6, 7, 6, 10]], [[89, 0], [8, 14, 9, 9]], [[71, 0], [6, 13, 12, 7]], [[33, 1], [4, 11, 4, 0]]], [[[30, 3], [4, 0, 4, 10]], [[77, 0], [7, 9, 10, 12]], [[36, 0], [5, 5, 10, 11]], [[42, 0], [5, 7, 5, 10]], [[53, 0], [5, 10, 13, 11]], [[49, 0], [5, 9, 9, 8]], [[63, 0], [6, 7, 6, 12]], [[79, 0], [7, 10, 11, 13]], [[58, 0], [5, 14, 6, 13]], [[13, 1], [2, 6, 4, 0]]], [[[31, 3], [1, 0, 4, 11]], [[98, 0], [10, 12, 12, 12]], [[47, 0], [5, 8, 11, 14]], [[48, 0], [5, 8, 14, 6]], [[91, 0], [9, 9, 12, 13]], [[57, 0], [5, 14, 6, 7]], [[67, 0], [6, 10, 12, 11]], [[78, 0], [7, 9, 11, 13]], [[88, 0], [8, 12, 14, 10]], [[6, 1], [1, 7, 4, 0]]], [[[2, 0], [0, 0, 2, 4]], [[34, 0], [0, 4, 12, 3]], [[24, 0], [0, 3, 12, 1]], [[8, 0], [0, 1, 9, 1]], [[27, 0], [0, 3, 14, 3]], [[12, 0], [0, 2, 6, 3]], [[21, 0], [0, 3, 9, 2]], [[35, 0], [0, 4, 14, 2]], [[9, 0], [0, 1, 9, 4]], [[3, 1], [0, 4, 2, 0]]]]\n"
          ]
        }
      ],
      "source": [
        "print(swapped_p)"
      ]
    },
    {
      "cell_type": "code",
      "execution_count": 49,
      "metadata": {
        "id": "mYlfaqJtFZ-n"
      },
      "outputs": [],
      "source": [
        "swapped_score = match(swapped_p)"
      ]
    },
    {
      "cell_type": "code",
      "execution_count": 50,
      "metadata": {
        "colab": {
          "base_uri": "https://localhost:8080/"
        },
        "id": "706AIzo_FgIr",
        "outputId": "604712c4-6e03-4e54-95b6-471a534f447f"
      },
      "outputs": [
        {
          "name": "stdout",
          "output_type": "stream",
          "text": [
            "21\n"
          ]
        }
      ],
      "source": [
        "print(swapped_score)"
      ]
    },
    {
      "cell_type": "code",
      "execution_count": 51,
      "metadata": {
        "id": "wrKzu0chjfjR"
      },
      "outputs": [],
      "source": [
        "#Cette fonction permet de mesurer l'évolution du score selon le type de pièces échangé (voir Expérience 3) \n",
        "\n",
        "def swap_2(piece_to_swap, puzzle):\n",
        "\n",
        "\n",
        "  if piece_to_swap == \"corner\":\n",
        "    i1, j1 = random.choice([0, len(puzzle)-1]), random.choice([0, len(puzzle[0])-1])\n",
        "    i2, j2 = random.choice([0, len(puzzle)-1]), random.choice([0, len(puzzle[0])-1])\n",
        "    while i2 == i1 and j2 == j1:\n",
        "      i2, j2 = random.choice([0, len(puzzle)-1]), random.choice([0, len(puzzle[0])-1])\n",
        "\n",
        "\n",
        "  elif piece_to_swap == \"edge\":\n",
        "    \n",
        "    i1 = random.randint(0, len(puzzle)-1)\n",
        "    if i1 == 0 or i1 == len(puzzle)-1:\n",
        "      j1 = random.randint(1, len(puzzle[0])-2)\n",
        "    else:\n",
        "      j1 = random.choice([0, len(puzzle[0])-1])\n",
        "    \n",
        "    i2 = random.randint(0, len(puzzle)-1)\n",
        "    if i2 == 0 or i2 == len(puzzle)-1:\n",
        "      j2 = random.randint(1, len(puzzle[0])-2)\n",
        "    else:\n",
        "      j2 = random.choice([0, len(puzzle[0])-1])\n",
        "    while i2 == i1 and j2 == j1:\n",
        "      i2 = random.randint(0, len(puzzle)-1)\n",
        "      if i2 == 0 or i2 == len(puzzle)-1:\n",
        "        j2 = random.randint(1, len(puzzle[0])-2)\n",
        "      else:\n",
        "        j2 = random.choice([0, len(puzzle[0])-1])\n",
        "\n",
        "\n",
        "  else:\n",
        "    i1, j1 = random.randint(1, len(puzzle)-2), random.randint(1, len(puzzle[0])-2)\n",
        "    i2, j2 = random.randint(1, len(puzzle)-2), random.randint(1, len(puzzle[0])-2)\n",
        "    while i2 == i1 and j2 == j1:\n",
        "      i2, j2 = random.randint(1, len(puzzle)-2), random.randint(1, len(puzzle[0])-2)\n",
        "\n",
        "  piece1, piece2 = puzzle[i1][j1], puzzle[i2][j2]\n",
        "  puzzle[i1][j1], puzzle[i2][j2] = correct(rotate(piece2[1], 4-piece2[0][1]), i1, j1), correct(rotate(piece1[1], 4-piece1[0][1]), i2, j2)\n",
        "\n",
        "  return puzzle"
      ]
    },
    {
      "cell_type": "code",
      "execution_count": 23,
      "metadata": {
        "id": "QC_WNTkqDje-"
      },
      "outputs": [],
      "source": [
        "#Suite à l'expérience 3: on choisit les pièces \"edge\" et \"other\" plus fréquemment que les \"corner\"\n",
        "\n",
        "def swap_3(puzzle):\n",
        "\n",
        "  pieces_number = len(puzzle)*len(puzzle[0])\n",
        "  edges_number = 2*(len(puzzle)+len(puzzle[0])-4)\n",
        "  piece_to_swap = random.choices([\"corner\", \"edge\", \"other\"], [0.1, 0.45, 0.45])\n",
        "\n",
        "  if piece_to_swap == \"corner\":\n",
        "    i1, j1 = random.choice([0, len(puzzle)-1]), random.choice([0, len(puzzle[0])-1])\n",
        "    i2, j2 = random.choice([0, len(puzzle)-1]), random.choice([0, len(puzzle[0])-1])\n",
        "    while i2 == i1 and j2 == j1:\n",
        "      i2, j2 = random.choice([0, len(puzzle)-1]), random.choice([0, len(puzzle[0])-1])\n",
        "\n",
        "\n",
        "  elif piece_to_swap == \"edge\":\n",
        "    \n",
        "    i1 = random.randint(0, len(puzzle)-1)\n",
        "    if i1 == 0 or i1 == len(puzzle)-1:\n",
        "      j1 = random.randint(1, len(puzzle[0])-2)\n",
        "    else:\n",
        "      j1 = random.choice([0, len(puzzle[0])-1])\n",
        "    \n",
        "    i2 = random.randint(0, len(puzzle)-1)\n",
        "    if i2 == 0 or i2 == len(puzzle)-1:\n",
        "      j2 = random.randint(1, len(puzzle[0])-2)\n",
        "    else:\n",
        "      j2 = random.choice([0, len(puzzle[0])-1])\n",
        "    while i2 == i1 and j2 == j1:\n",
        "      i2 = random.randint(0, len(puzzle)-1)\n",
        "      if i2 == 0 or i2 == len(puzzle)-1:\n",
        "        j2 = random.randint(1, len(puzzle[0])-2)\n",
        "      else:\n",
        "        j2 = random.choice([0, len(puzzle[0])-1])\n",
        "\n",
        "\n",
        "  else:\n",
        "    i1, j1 = random.randint(1, len(puzzle)-2), random.randint(1, len(puzzle[0])-2)\n",
        "    i2, j2 = random.randint(1, len(puzzle)-2), random.randint(1, len(puzzle[0])-2)\n",
        "    while i2 == i1 and j2 == j1:\n",
        "      i2, j2 = random.randint(1, len(puzzle)-2), random.randint(1, len(puzzle[0])-2)\n",
        "\n",
        "  piece1, piece2 = puzzle[i1][j1], puzzle[i2][j2]\n",
        "  puzzle[i1][j1], puzzle[i2][j2] = correct(rotate(piece2[1], 4-piece2[0][1]), i1, j1), correct(rotate(piece1[1], 4-piece1[0][1]), i2, j2)\n",
        "\n",
        "  return puzzle"
      ]
    },
    {
      "cell_type": "code",
      "execution_count": 52,
      "metadata": {
        "colab": {
          "base_uri": "https://localhost:8080/"
        },
        "id": "TnVJ0rtwP85t",
        "outputId": "f4667ab0-4d20-4fef-e55f-8f543d381d11"
      },
      "outputs": [
        {
          "name": "stdout",
          "output_type": "stream",
          "text": [
            "[[[[1, 3], [3, 0, 0, 2]], [[29, 2], [7, 3, 0, 4]], [[28, 2], [7, 2, 0, 4]], [[22, 2], [10, 3, 0, 3]], [[10, 2], [10, 3, 0, 1]], [[23, 2], [11, 4, 0, 3]], [[15, 2], [9, 4, 0, 2]], [[20, 2], [6, 2, 0, 3]], [[5, 2], [7, 1, 0, 1]], [[0, 2], [1, 2, 0, 0]]], [[[16, 3], [3, 0, 2, 10]], [[82, 0], [8, 10, 11, 13]], [[70, 0], [6, 13, 11, 10]], [[54, 0], [5, 11, 5, 12]], [[72, 0], [7, 7, 7, 14]], [[90, 0], [8, 14, 9, 13]], [[76, 0], [7, 8, 9, 8]], [[93, 0], [9, 13, 11, 13]], [[40, 0], [5, 6, 12, 12]], [[19, 1], [3, 6, 1, 0]]], [[[32, 3], [2, 0, 4, 11]], [[81, 0], [8, 8, 12, 12]], [[44, 0], [5, 8, 7, 6]], [[86, 0], [8, 12, 13, 9]], [[65, 0], [6, 8, 11, 12]], [[39, 0], [5, 6, 10, 10]], [[97, 0], [10, 11, 13, 14]], [[85, 0], [8, 11, 13, 11]], [[52, 0], [5, 10, 13, 8]], [[14, 1], [2, 7, 4, 0]]], [[[7, 3], [1, 0, 1, 8]], [[66, 0], [6, 9, 9, 8]], [[37, 0], [5, 6, 5, 14]], [[43, 0], [5, 8, 6, 9]], [[45, 0], [5, 8, 8, 12]], [[50, 0], [5, 9, 11, 14]], [[75, 0], [7, 8, 7, 14]], [[55, 0], [5, 11, 6, 6]], [[96, 0], [9, 14, 11, 13]], [[26, 1], [3, 14, 1, 0]]], [[[17, 3], [2, 0, 2, 13]], [[68, 0], [6, 12, 14, 7]], [[38, 0], [5, 6, 7, 10]], [[84, 0], [8, 11, 10, 14]], [[60, 0], [5, 14, 10, 10]], [[99, 0], [13, 13, 13, 14]], [[69, 0], [6, 13, 10, 11]], [[95, 0], [9, 13, 13, 14]], [[51, 0], [5, 10, 12, 12]], [[11, 1], [1, 14, 1, 0]]], [[[25, 3], [1, 0, 3, 13]], [[73, 0], [7, 7, 8, 8]], [[61, 0], [6, 6, 14, 10]], [[41, 0], [5, 6, 12, 13]], [[87, 0], [8, 12, 13, 14]], [[46, 0], [5, 8, 9, 7]], [[83, 0], [8, 11, 10, 9]], [[64, 0], [6, 7, 11, 8]], [[94, 0], [9, 13, 12, 14]], [[18, 1], [2, 14, 3, 0]]], [[[4, 3], [2, 0, 1, 5]], [[80, 0], [7, 12, 12, 9]], [[74, 0], [7, 8, 7, 13]], [[92, 0], [9, 11, 10, 14]], [[56, 0], [5, 11, 7, 11]], [[59, 0], [5, 14, 9, 12]], [[62, 0], [6, 7, 6, 10]], [[89, 0], [8, 14, 9, 9]], [[71, 0], [6, 13, 12, 7]], [[33, 1], [4, 11, 4, 0]]], [[[30, 3], [4, 0, 4, 10]], [[77, 0], [7, 9, 10, 12]], [[36, 0], [5, 5, 10, 11]], [[42, 0], [5, 7, 5, 10]], [[53, 0], [5, 10, 13, 11]], [[49, 0], [5, 9, 9, 8]], [[63, 0], [6, 7, 6, 12]], [[79, 0], [7, 10, 11, 13]], [[58, 0], [5, 14, 6, 13]], [[13, 1], [2, 6, 4, 0]]], [[[31, 3], [1, 0, 4, 11]], [[98, 0], [10, 12, 12, 12]], [[47, 0], [5, 8, 11, 14]], [[48, 0], [5, 8, 14, 6]], [[91, 0], [9, 9, 12, 13]], [[57, 0], [5, 14, 6, 7]], [[67, 0], [6, 10, 12, 11]], [[78, 0], [7, 9, 11, 13]], [[88, 0], [8, 12, 14, 10]], [[6, 1], [1, 7, 4, 0]]], [[[3, 0], [0, 0, 4, 2]], [[34, 0], [0, 4, 12, 3]], [[24, 0], [0, 3, 12, 1]], [[8, 0], [0, 1, 9, 1]], [[27, 0], [0, 3, 14, 3]], [[12, 0], [0, 2, 6, 3]], [[21, 0], [0, 3, 9, 2]], [[35, 0], [0, 4, 14, 2]], [[9, 0], [0, 1, 9, 4]], [[2, 1], [0, 2, 4, 0]]]]\n"
          ]
        }
      ],
      "source": [
        "print(p)"
      ]
    },
    {
      "cell_type": "code",
      "execution_count": 53,
      "metadata": {
        "colab": {
          "base_uri": "https://localhost:8080/"
        },
        "id": "eXlJD3kPP_AA",
        "outputId": "44ac3a50-ec01-462e-b763-9a1d506b3227"
      },
      "outputs": [
        {
          "name": "stdout",
          "output_type": "stream",
          "text": [
            "[[[[3, 3], [2, 0, 0, 4]], [[29, 2], [7, 3, 0, 4]], [[28, 2], [7, 2, 0, 4]], [[22, 2], [10, 3, 0, 3]], [[10, 2], [10, 3, 0, 1]], [[23, 2], [11, 4, 0, 3]], [[15, 2], [9, 4, 0, 2]], [[20, 2], [6, 2, 0, 3]], [[5, 2], [7, 1, 0, 1]], [[0, 2], [1, 2, 0, 0]]], [[[16, 3], [3, 0, 2, 10]], [[82, 0], [8, 10, 11, 13]], [[70, 0], [6, 13, 11, 10]], [[54, 0], [5, 11, 5, 12]], [[72, 0], [7, 7, 7, 14]], [[90, 0], [8, 14, 9, 13]], [[76, 0], [7, 8, 9, 8]], [[93, 0], [9, 13, 11, 13]], [[40, 0], [5, 6, 12, 12]], [[19, 1], [3, 6, 1, 0]]], [[[32, 3], [2, 0, 4, 11]], [[81, 0], [8, 8, 12, 12]], [[44, 0], [5, 8, 7, 6]], [[86, 0], [8, 12, 13, 9]], [[65, 0], [6, 8, 11, 12]], [[39, 0], [5, 6, 10, 10]], [[97, 0], [10, 11, 13, 14]], [[85, 0], [8, 11, 13, 11]], [[52, 0], [5, 10, 13, 8]], [[14, 1], [2, 7, 4, 0]]], [[[7, 3], [1, 0, 1, 8]], [[66, 0], [6, 9, 9, 8]], [[37, 0], [5, 6, 5, 14]], [[43, 0], [5, 8, 6, 9]], [[45, 0], [5, 8, 8, 12]], [[50, 0], [5, 9, 11, 14]], [[75, 0], [7, 8, 7, 14]], [[55, 0], [5, 11, 6, 6]], [[96, 0], [9, 14, 11, 13]], [[26, 1], [3, 14, 1, 0]]], [[[17, 3], [2, 0, 2, 13]], [[68, 0], [6, 12, 14, 7]], [[38, 0], [5, 6, 7, 10]], [[84, 0], [8, 11, 10, 14]], [[60, 0], [5, 14, 10, 10]], [[99, 0], [13, 13, 13, 14]], [[69, 0], [6, 13, 10, 11]], [[95, 0], [9, 13, 13, 14]], [[51, 0], [5, 10, 12, 12]], [[11, 1], [1, 14, 1, 0]]], [[[25, 3], [1, 0, 3, 13]], [[73, 0], [7, 7, 8, 8]], [[61, 0], [6, 6, 14, 10]], [[41, 0], [5, 6, 12, 13]], [[87, 0], [8, 12, 13, 14]], [[46, 0], [5, 8, 9, 7]], [[83, 0], [8, 11, 10, 9]], [[64, 0], [6, 7, 11, 8]], [[94, 0], [9, 13, 12, 14]], [[18, 1], [2, 14, 3, 0]]], [[[4, 3], [2, 0, 1, 5]], [[80, 0], [7, 12, 12, 9]], [[74, 0], [7, 8, 7, 13]], [[92, 0], [9, 11, 10, 14]], [[56, 0], [5, 11, 7, 11]], [[59, 0], [5, 14, 9, 12]], [[62, 0], [6, 7, 6, 10]], [[89, 0], [8, 14, 9, 9]], [[71, 0], [6, 13, 12, 7]], [[33, 1], [4, 11, 4, 0]]], [[[30, 3], [4, 0, 4, 10]], [[77, 0], [7, 9, 10, 12]], [[36, 0], [5, 5, 10, 11]], [[42, 0], [5, 7, 5, 10]], [[53, 0], [5, 10, 13, 11]], [[49, 0], [5, 9, 9, 8]], [[63, 0], [6, 7, 6, 12]], [[79, 0], [7, 10, 11, 13]], [[58, 0], [5, 14, 6, 13]], [[13, 1], [2, 6, 4, 0]]], [[[31, 3], [1, 0, 4, 11]], [[98, 0], [10, 12, 12, 12]], [[47, 0], [5, 8, 11, 14]], [[48, 0], [5, 8, 14, 6]], [[91, 0], [9, 9, 12, 13]], [[57, 0], [5, 14, 6, 7]], [[67, 0], [6, 10, 12, 11]], [[78, 0], [7, 9, 11, 13]], [[88, 0], [8, 12, 14, 10]], [[6, 1], [1, 7, 4, 0]]], [[[1, 0], [0, 0, 2, 3]], [[34, 0], [0, 4, 12, 3]], [[24, 0], [0, 3, 12, 1]], [[8, 0], [0, 1, 9, 1]], [[27, 0], [0, 3, 14, 3]], [[12, 0], [0, 2, 6, 3]], [[21, 0], [0, 3, 9, 2]], [[35, 0], [0, 4, 14, 2]], [[9, 0], [0, 1, 9, 4]], [[2, 1], [0, 2, 4, 0]]]]\n"
          ]
        }
      ],
      "source": [
        "print(swap_1(copy.deepcopy(p)))"
      ]
    },
    {
      "cell_type": "code",
      "execution_count": 54,
      "metadata": {
        "colab": {
          "base_uri": "https://localhost:8080/"
        },
        "id": "UmPDq3xqQH7u",
        "outputId": "7afef59b-f54f-405f-db58-5b2bd15e3f4e"
      },
      "outputs": [
        {
          "name": "stdout",
          "output_type": "stream",
          "text": [
            "[[[[1, 3], [3, 0, 0, 2]], [[29, 2], [7, 3, 0, 4]], [[28, 2], [7, 2, 0, 4]], [[22, 2], [10, 3, 0, 3]], [[10, 2], [10, 3, 0, 1]], [[23, 2], [11, 4, 0, 3]], [[15, 2], [9, 4, 0, 2]], [[20, 2], [6, 2, 0, 3]], [[5, 2], [7, 1, 0, 1]], [[0, 2], [1, 2, 0, 0]]], [[[16, 3], [3, 0, 2, 10]], [[82, 0], [8, 10, 11, 13]], [[70, 0], [6, 13, 11, 10]], [[54, 0], [5, 11, 5, 12]], [[72, 0], [7, 7, 7, 14]], [[90, 0], [8, 14, 9, 13]], [[76, 0], [7, 8, 9, 8]], [[93, 0], [9, 13, 11, 13]], [[40, 0], [5, 6, 12, 12]], [[19, 1], [3, 6, 1, 0]]], [[[32, 3], [2, 0, 4, 11]], [[81, 0], [8, 8, 12, 12]], [[44, 0], [5, 8, 7, 6]], [[86, 0], [8, 12, 13, 9]], [[65, 0], [6, 8, 11, 12]], [[39, 0], [5, 6, 10, 10]], [[43, 0], [5, 8, 6, 9]], [[85, 0], [8, 11, 13, 11]], [[52, 0], [5, 10, 13, 8]], [[14, 1], [2, 7, 4, 0]]], [[[7, 3], [1, 0, 1, 8]], [[66, 0], [6, 9, 9, 8]], [[37, 0], [5, 6, 5, 14]], [[97, 0], [10, 11, 13, 14]], [[45, 0], [5, 8, 8, 12]], [[50, 0], [5, 9, 11, 14]], [[75, 0], [7, 8, 7, 14]], [[55, 0], [5, 11, 6, 6]], [[96, 0], [9, 14, 11, 13]], [[26, 1], [3, 14, 1, 0]]], [[[17, 3], [2, 0, 2, 13]], [[68, 0], [6, 12, 14, 7]], [[38, 0], [5, 6, 7, 10]], [[84, 0], [8, 11, 10, 14]], [[60, 0], [5, 14, 10, 10]], [[99, 0], [13, 13, 13, 14]], [[69, 0], [6, 13, 10, 11]], [[95, 0], [9, 13, 13, 14]], [[51, 0], [5, 10, 12, 12]], [[11, 1], [1, 14, 1, 0]]], [[[25, 3], [1, 0, 3, 13]], [[73, 0], [7, 7, 8, 8]], [[61, 0], [6, 6, 14, 10]], [[41, 0], [5, 6, 12, 13]], [[87, 0], [8, 12, 13, 14]], [[46, 0], [5, 8, 9, 7]], [[83, 0], [8, 11, 10, 9]], [[64, 0], [6, 7, 11, 8]], [[94, 0], [9, 13, 12, 14]], [[18, 1], [2, 14, 3, 0]]], [[[4, 3], [2, 0, 1, 5]], [[80, 0], [7, 12, 12, 9]], [[74, 0], [7, 8, 7, 13]], [[92, 0], [9, 11, 10, 14]], [[56, 0], [5, 11, 7, 11]], [[59, 0], [5, 14, 9, 12]], [[62, 0], [6, 7, 6, 10]], [[89, 0], [8, 14, 9, 9]], [[71, 0], [6, 13, 12, 7]], [[33, 1], [4, 11, 4, 0]]], [[[30, 3], [4, 0, 4, 10]], [[77, 0], [7, 9, 10, 12]], [[36, 0], [5, 5, 10, 11]], [[42, 0], [5, 7, 5, 10]], [[53, 0], [5, 10, 13, 11]], [[49, 0], [5, 9, 9, 8]], [[63, 0], [6, 7, 6, 12]], [[79, 0], [7, 10, 11, 13]], [[58, 0], [5, 14, 6, 13]], [[13, 1], [2, 6, 4, 0]]], [[[31, 3], [1, 0, 4, 11]], [[98, 0], [10, 12, 12, 12]], [[47, 0], [5, 8, 11, 14]], [[48, 0], [5, 8, 14, 6]], [[91, 0], [9, 9, 12, 13]], [[57, 0], [5, 14, 6, 7]], [[67, 0], [6, 10, 12, 11]], [[78, 0], [7, 9, 11, 13]], [[88, 0], [8, 12, 14, 10]], [[6, 1], [1, 7, 4, 0]]], [[[3, 0], [0, 0, 4, 2]], [[34, 0], [0, 4, 12, 3]], [[24, 0], [0, 3, 12, 1]], [[8, 0], [0, 1, 9, 1]], [[27, 0], [0, 3, 14, 3]], [[12, 0], [0, 2, 6, 3]], [[21, 0], [0, 3, 9, 2]], [[35, 0], [0, 4, 14, 2]], [[9, 0], [0, 1, 9, 4]], [[2, 1], [0, 2, 4, 0]]]]\n"
          ]
        }
      ],
      "source": [
        "print(swap_3(copy.deepcopy(p)))"
      ]
    },
    {
      "attachments": {},
      "cell_type": "markdown",
      "metadata": {},
      "source": [
        "# Expériences"
      ]
    },
    {
      "cell_type": "code",
      "execution_count": 27,
      "metadata": {
        "id": "wRffIFmRdtii"
      },
      "outputs": [],
      "source": [
        "def xp1():\n",
        "\n",
        "  mean = 0\n",
        "  abs, ord = [], []\n",
        "  for i in range (itr):\n",
        "    abs.append(i)\n",
        "    score = Puzzle(puzzle_file).score\n",
        "    ord.append(score)\n",
        "    mean += score\n",
        "\n",
        "  print(f\"Score minimal: {min(ord)}\")\n",
        "  print(f\"Score maximal atteint: {max(ord)}\")\n",
        "  print(f\"Score moyen: {int(mean/itr)}\")\n",
        "  plt.plot(abs, ord)\n",
        "  plt.title(\"Score en fonction du nombre d'itérations (sans modification)\")\n",
        "  plt.show()"
      ]
    },
    {
      "cell_type": "code",
      "execution_count": 28,
      "metadata": {
        "id": "LjfgNYBvVcWc"
      },
      "outputs": [],
      "source": [
        "#Expérience 1\n",
        "#xp1()"
      ]
    },
    {
      "cell_type": "markdown",
      "metadata": {
        "id": "Pb6zssZ9WaZ1"
      },
      "source": [
        "A chaque itération, je génère un nouveau puzzle et je calcule son score que je stocke. \\\n",
        "Cela me permet d'obtenir le score minimal et maximal, de calculer le score moyen et de dresser le graphe représentant le score du puzzle généré en fonction du nombre d'itérations. \\\n",
        "On remarque que le score oscille, ce qui donne une allure de bruit, de signal ou de processus aléatoire au graphe obtenu."
      ]
    },
    {
      "cell_type": "code",
      "execution_count": 55,
      "metadata": {
        "id": "ZiEChk2qftmm"
      },
      "outputs": [],
      "source": [
        "def xp2():\n",
        "\n",
        "  init_puzzle = copy.deepcopy(p)\n",
        "  init_score = match(p)\n",
        "  abs, ord = [], []\n",
        "  for i in range (itr):\n",
        "    abs.append(i)\n",
        "    ord.append(init_score)\n",
        "    swapped_puzzle = swap_1(copy.deepcopy(init_puzzle))\n",
        "    swapped_score = match(swapped_puzzle)\n",
        "    if swapped_score>init_score:\n",
        "      init_puzzle = swapped_puzzle\n",
        "      init_score = swapped_score\n",
        "  \n",
        "  max_reached = max(ord)\n",
        "  max_possible = len(p)*(len(p)-1) + len(p[0])*(len(p[0])-1)\n",
        "\n",
        "  print(f\"Score maximal atteint: {max_reached}\")\n",
        "  print(f\"Score maximal possible: {max_possible}\")\n",
        "  print(f\"On en déduit que {100*max_reached/max_possible}% des pièces sont correctement placées\")\n",
        "  plt.plot(abs, ord)\n",
        "  plt.title(\"Score en fonction du nombre d'itérations (avec échange de pièces uniquement)\")\n",
        "  plt.show()\n",
        "\n",
        "  return init_puzzle"
      ]
    },
    {
      "cell_type": "code",
      "execution_count": 56,
      "metadata": {
        "colab": {
          "base_uri": "https://localhost:8080/",
          "height": 505
        },
        "id": "wgra-D0uZMvc",
        "outputId": "524217ce-02f7-422e-8a6d-1570b3639ab4"
      },
      "outputs": [
        {
          "name": "stdout",
          "output_type": "stream",
          "text": [
            "Score maximal atteint: 101\n",
            "Score maximal possible: 180\n",
            "On en déduit que 56.111111111111114% des pièces sont correctement placées\n"
          ]
        },
        {
          "data": {
            "image/png": "[encoded data removed]",
            "text/plain": [
              "<Figure size 640x480 with 1 Axes>"
            ]
          },
          "metadata": {},
          "output_type": "display_data"
        },
        {
          "data": {
            "text/plain": [
              "[[[[3, 3], [2, 0, 0, 4]],\n",
              "  [[33, 2], [11, 4, 0, 4]],\n",
              "  [[23, 2], [11, 4, 0, 3]],\n",
              "  [[22, 2], [10, 3, 0, 3]],\n",
              "  [[27, 2], [14, 3, 0, 3]],\n",
              "  [[29, 2], [7, 3, 0, 4]],\n",
              "  [[15, 2], [9, 4, 0, 2]],\n",
              "  [[35, 2], [14, 2, 0, 4]],\n",
              "  [[14, 2], [7, 4, 0, 2]],\n",
              "  [[0, 2], [1, 2, 0, 0]]],\n",
              " [[[16, 3], [3, 0, 2, 10]],\n",
              "  [[82, 0], [8, 10, 11, 13]],\n",
              "  [[70, 0], [6, 13, 11, 10]],\n",
              "  [[83, 0], [8, 11, 10, 9]],\n",
              "  [[78, 0], [7, 9, 11, 13]],\n",
              "  [[66, 0], [6, 9, 9, 8]],\n",
              "  [[76, 0], [7, 8, 9, 8]],\n",
              "  [[48, 0], [5, 8, 14, 6]],\n",
              "  [[38, 0], [5, 6, 7, 10]],\n",
              "  [[19, 1], [3, 6, 1, 0]]],\n",
              " [[[25, 3], [1, 0, 3, 13]],\n",
              "  [[91, 0], [9, 9, 12, 13]],\n",
              "  [[40, 0], [5, 6, 12, 12]],\n",
              "  [[65, 0], [6, 8, 11, 12]],\n",
              "  [[75, 0], [7, 8, 7, 14]],\n",
              "  [[36, 0], [5, 5, 10, 11]],\n",
              "  [[97, 0], [10, 11, 13, 14]],\n",
              "  [[42, 0], [5, 7, 5, 10]],\n",
              "  [[52, 0], [5, 10, 13, 8]],\n",
              "  [[10, 1], [1, 10, 3, 0]]],\n",
              " [[[7, 3], [1, 0, 1, 8]],\n",
              "  [[46, 0], [5, 8, 9, 7]],\n",
              "  [[37, 0], [5, 6, 5, 14]],\n",
              "  [[58, 0], [5, 14, 6, 13]],\n",
              "  [[94, 0], [9, 13, 12, 14]],\n",
              "  [[50, 0], [5, 9, 11, 14]],\n",
              "  [[60, 0], [5, 14, 10, 10]],\n",
              "  [[67, 0], [6, 10, 12, 11]],\n",
              "  [[54, 0], [5, 11, 5, 12]],\n",
              "  [[11, 1], [1, 14, 1, 0]]],\n",
              " [[[6, 3], [4, 0, 1, 7]],\n",
              "  [[72, 0], [7, 7, 7, 14]],\n",
              "  [[99, 0], [13, 13, 13, 14]],\n",
              "  [[84, 0], [8, 11, 10, 14]],\n",
              "  [[59, 0], [5, 14, 9, 12]],\n",
              "  [[44, 0], [5, 8, 7, 6]],\n",
              "  [[41, 0], [5, 6, 12, 13]],\n",
              "  [[62, 0], [6, 7, 6, 10]],\n",
              "  [[51, 0], [5, 10, 12, 12]],\n",
              "  [[24, 1], [3, 12, 1, 0]]],\n",
              " [[[31, 3], [1, 0, 4, 11]],\n",
              "  [[74, 0], [7, 8, 7, 13]],\n",
              "  [[95, 0], [9, 13, 13, 14]],\n",
              "  [[81, 0], [8, 8, 12, 12]],\n",
              "  [[87, 0], [8, 12, 13, 14]],\n",
              "  [[57, 0], [5, 14, 6, 7]],\n",
              "  [[96, 0], [9, 14, 11, 13]],\n",
              "  [[63, 0], [6, 7, 6, 12]],\n",
              "  [[80, 0], [7, 12, 12, 9]],\n",
              "  [[18, 1], [2, 14, 3, 0]]],\n",
              " [[[4, 3], [2, 0, 1, 5]],\n",
              "  [[98, 0], [10, 12, 12, 12]],\n",
              "  [[68, 0], [6, 12, 14, 7]],\n",
              "  [[73, 0], [7, 7, 8, 8]],\n",
              "  [[45, 0], [5, 8, 8, 12]],\n",
              "  [[92, 0], [9, 11, 10, 14]],\n",
              "  [[90, 0], [8, 14, 9, 13]],\n",
              "  [[93, 0], [9, 13, 11, 13]],\n",
              "  [[71, 0], [6, 13, 12, 7]],\n",
              "  [[28, 1], [4, 7, 2, 0]]],\n",
              " [[[13, 3], [4, 0, 2, 6]],\n",
              "  [[69, 0], [6, 13, 10, 11]],\n",
              "  [[55, 0], [5, 11, 6, 6]],\n",
              "  [[39, 0], [5, 6, 10, 10]],\n",
              "  [[53, 0], [5, 10, 13, 11]],\n",
              "  [[49, 0], [5, 9, 9, 8]],\n",
              "  [[61, 0], [6, 6, 14, 10]],\n",
              "  [[79, 0], [7, 10, 11, 13]],\n",
              "  [[43, 0], [5, 8, 6, 9]],\n",
              "  [[9, 1], [1, 9, 4, 0]]],\n",
              " [[[32, 3], [2, 0, 4, 11]],\n",
              "  [[64, 0], [6, 7, 11, 8]],\n",
              "  [[47, 0], [5, 8, 11, 14]],\n",
              "  [[89, 0], [8, 14, 9, 9]],\n",
              "  [[77, 0], [7, 9, 10, 12]],\n",
              "  [[86, 0], [8, 12, 13, 9]],\n",
              "  [[85, 0], [8, 11, 13, 11]],\n",
              "  [[56, 0], [5, 11, 7, 11]],\n",
              "  [[88, 0], [8, 12, 14, 10]],\n",
              "  [[30, 1], [4, 10, 4, 0]]],\n",
              " [[[1, 0], [0, 0, 2, 3]],\n",
              "  [[12, 0], [0, 2, 6, 3]],\n",
              "  [[26, 0], [0, 3, 14, 1]],\n",
              "  [[8, 0], [0, 1, 9, 1]],\n",
              "  [[5, 0], [0, 1, 7, 1]],\n",
              "  [[34, 0], [0, 4, 12, 3]],\n",
              "  [[21, 0], [0, 3, 9, 2]],\n",
              "  [[20, 0], [0, 3, 6, 2]],\n",
              "  [[17, 0], [0, 2, 13, 2]],\n",
              "  [[2, 1], [0, 2, 4, 0]]]]"
            ]
          },
          "execution_count": 56,
          "metadata": {},
          "output_type": "execute_result"
        }
      ],
      "source": [
        "#Expérience 2\n",
        "xp2()"
      ]
    },
    {
      "cell_type": "markdown",
      "metadata": {
        "id": "J5n7SOzcZjFo"
      },
      "source": [
        "L'expérience 2 se déroule de la manière suivante: \\\n",
        "A chaque itération, on échange 2 pièces du puzzle initial, dont on a calculé le score, et on calcule le score issu de cette modification. Si celui-ci est supérieur au score initial, on enregistre le nouveau puzzle.\\\n",
        "A priori, grâce à ce procédé, le score ne peut qu'augmenter. On constate que c'est effectivement le cas ici. Seulement, on constate aussi que le score finit par stagner. C'est le risque de cette méthode: arriver à une solution du puzzle correspondant à un minimum local."
      ]
    },
    {
      "cell_type": "markdown",
      "metadata": {
        "id": "NA6l6xnTes6F"
      },
      "source": [
        "A ce stade, deux choses sont à noter: \\\n",
        "- la modification consiste seulement en l'échange de pièces. Les pièces centrales ne subissent aucune rotation, ce qui permettrait sûrement d'améliorer encore le score. (Vous pouvez le vérifier: le puzzle est une liste de listes, constituées elles-même de listes représentant les pièces de la manière suivante: \\\n",
        "[(index de la pièce dans la grande liste de pièces, rotation subie par cette pièce), [4 chiffres constituant la pièce]])\n",
        "- L'échange de pièces se fait de manière aléatoire entre une pièce de \"coin\", de \"bord\" ou centrale. Or, plus le nombre de pièces total augmente, plus il y a de pièces de \"bord\", et encore plus il y a de pièces centrales. Ainsi, pour un grand nombre de pièces, il est peut-être intéressant d'échanger plus souvent des pièces centrales ou de \"bord\" que des pièces de \"coin\"."
      ]
    },
    {
      "cell_type": "code",
      "execution_count": null,
      "metadata": {
        "id": "60SK0V4i30f4"
      },
      "outputs": [],
      "source": [
        "def xp3():\n",
        "  \n",
        "  pieces_to_swap = [\"corner\", \"edge\", \"other\"]\n",
        "  for piece_to_swap in pieces_to_swap:\n",
        "    init_puzzle = copy.deepcopy(p)\n",
        "    init_score = match(p)\n",
        "    abs, ord = [], []\n",
        "    for i in range (itr):\n",
        "      abs.append(i)\n",
        "      ord.append(init_score)\n",
        "      swapped_puzzle = swap_2(piece_to_swap, copy.deepcopy(init_puzzle))\n",
        "      swapped_score = match(swapped_puzzle)\n",
        "      if swapped_score>init_score:\n",
        "        init_puzzle = swapped_puzzle\n",
        "        init_score = swapped_score\n",
        "\n",
        "    max_reached = max(ord)\n",
        "    max_possible = len(p)*(len(p)-1) + len(p[0])*(len(p[0])-1)\n",
        "\n",
        "    print(f\"Type de pièces échangé: {piece_to_swap}\")\n",
        "    print(f\"Score maximal atteint: {max_reached}\")\n",
        "    print(f\"Score maximal possible: {max_possible}\")\n",
        "    print(f\"On en déduit que {100*max_reached/max_possible}% des pièces sont correctement placées\")\n",
        "    print()\n",
        "    plt.plot(abs, ord, label = piece_to_swap)\n",
        "\n",
        "  plt.title(\"Score en fonction du nombre d'itérations (avec échange d'un seul type de pièces uniquement)\")\n",
        "  plt.legend()\n",
        "  plt.show()"
      ]
    },
    {
      "cell_type": "code",
      "execution_count": null,
      "metadata": {
        "id": "ZQ650i0_8DOP"
      },
      "outputs": [],
      "source": [
        "#Expérience 3\n",
        "#xp3()"
      ]
    },
    {
      "cell_type": "markdown",
      "metadata": {
        "id": "G7X_XCZ99h9U"
      },
      "source": [
        "L'expérience 3 cherche à mesurer l'évolution du score selon le type de pièces échangé. \\\n",
        "On essaie tout d'abord de n'échanger que des pièces de \"coin\", puis que des pièces de \"bord\" et enfin, que des pièces centrales. \\\n",
        "On constate que l'échange unique de pièces centrales permet d'améliorer le score de façon significative, lorsqu'elles sont bien sûr en majorité dans le puzzle. L'échange de pièces de \"bord\" permet d'améliorer le score dans une moindre mesure. Par contre, l'échange unique de pièces de \"coin\" améliore très rarement le score. \\\n",
        "On peut donc optimiser l'algorithme précédent en échangeant plus fréquemment des pièces de \"bord\" ou centrales que des \"coins\". \\\n",
        "Or, l'expérience précédente montre qu'une bonne combinaison des types de pièces échangés permet d'aboutir à un score très satisfaisant en beaucoup moins d'itérations. \\\n",
        "Ainsi, il faut veiller à garder un équilibre entre l'échange de ces 2 types de pièces."
      ]
    },
    {
      "cell_type": "code",
      "execution_count": null,
      "metadata": {
        "id": "WMb-EDf6D_3h"
      },
      "outputs": [],
      "source": [
        "def xp3bis():\n",
        "\n",
        "  init_puzzle = copy.deepcopy(p)\n",
        "  init_score = match(p)\n",
        "  abs, ord = [], []\n",
        "  for i in range (itr):\n",
        "    abs.append(i)\n",
        "    ord.append(init_score)\n",
        "    swapped_puzzle = swap_1(copy.deepcopy(init_puzzle))\n",
        "    swapped_score = match(swapped_puzzle)\n",
        "    if swapped_score>init_score:\n",
        "      init_puzzle = swapped_puzzle\n",
        "      init_score = swapped_score\n",
        "  \n",
        "  max_reached = max(ord)\n",
        "  max_possible = len(p)*(len(p)-1) + len(p[0])*(len(p[0])-1)\n",
        "\n",
        "  print(f\"Echange équiprobable des pièces\")\n",
        "  print(f\"Score maximal atteint: {max_reached}\")\n",
        "  print(f\"Score maximal possible: {max_possible}\")\n",
        "  print(f\"On en déduit que {100*max_reached/max_possible}% des pièces sont correctement placées\")\n",
        "  print()\n",
        "  plt.plot(abs, ord)\n",
        "\n",
        "  init_puzzle = copy.deepcopy(p)\n",
        "  init_score = match(p)\n",
        "  abs, ord = [], []\n",
        "  for i in range (itr):\n",
        "    abs.append(i)\n",
        "    ord.append(init_score)\n",
        "    swapped_puzzle = swap_3(copy.deepcopy(init_puzzle))\n",
        "    swapped_score = match(swapped_puzzle)\n",
        "    if swapped_score>init_score:\n",
        "      init_puzzle = swapped_puzzle\n",
        "      init_score = swapped_score\n",
        "  \n",
        "  max_reached = max(ord)\n",
        "  max_possible = len(p)*(len(p)-1) + len(p[0])*(len(p[0])-1)\n",
        "\n",
        "  print(\"Echange plus fréquent des types 'edge' et 'other'\")\n",
        "  print(f\"Score maximal atteint: {max_reached}\")\n",
        "  print(f\"Score maximal possible: {max_possible}\")\n",
        "  print(f\"On en déduit que {100*max_reached/max_possible}% des pièces sont correctement placées\")\n",
        "  plt.plot(abs, ord)\n",
        "\n",
        "  plt.show()"
      ]
    },
    {
      "cell_type": "code",
      "execution_count": null,
      "metadata": {
        "id": "HOroEBmjEKef"
      },
      "outputs": [],
      "source": [
        "# Expérience 3bis (modification suite aux conclusions de l'expérience précédente)\n",
        "#xp3bis()"
      ]
    },
    {
      "cell_type": "markdown",
      "metadata": {
        "id": "MfD-fSJqJzXn"
      },
      "source": [
        "A présent, ajoutons une modification supplémentaire: la rotation des pièces centrales. \\\n",
        "Je vais l'ajouter de la manière suivante: si le nouveau score est identique ou inférieur au précédent, c'est-à-dire si le score n'a pas évolué ou a diminué entre 2 itérations, je sélectionne une pièce centrale au hasard dans le puzzle et je la tourne au maximum 4 fois. Si, le score n'a toujours pas été amélioré, j'en sélectionne une autre."
      ]
    },
    {
      "cell_type": "code",
      "execution_count": null,
      "metadata": {
        "id": "_1NA8u3rtb4z"
      },
      "outputs": [],
      "source": [
        "def xp4():\n",
        "  \n",
        "  init_puzzle = copy.deepcopy(p)\n",
        "  pieces_number = len(init_puzzle)*len(init_puzzle[0])\n",
        "  edges_number = 2*(len(init_puzzle)+len(init_puzzle[0])-4)\n",
        "  others_number = pieces_number-edges_number-4\n",
        "  mutation_rate = int(0.1*others_number)\n",
        "  init_score = match(p)\n",
        "  abs, ord = [], []\n",
        "  for i in range (itr):\n",
        "    abs.append(i)\n",
        "    ord.append(init_score)\n",
        "    swapped_puzzle = swap_1(copy.deepcopy(init_puzzle))\n",
        "    swapped_score = match(swapped_puzzle)\n",
        "    if swapped_score>init_score:\n",
        "      init_puzzle = swapped_puzzle\n",
        "      init_score = swapped_score\n",
        "    else:\n",
        "      rotated_puzzle = copy.deepcopy(swapped_puzzle)\n",
        "      j, k = random.randint(1, len(p)-2), random.randint(1, len(p[0])-2)\n",
        "      piece_to_rotate = rotated_puzzle[j][k]\n",
        "      for angle in range (4):\n",
        "        rotated_piece = [[piece_to_rotate[0][0], piece_to_rotate[0][1] + angle], rotate(piece_to_rotate[1], angle)]\n",
        "        rotated_puzzle[j][k] = rotated_piece\n",
        "        rotated_score = match(rotated_puzzle)\n",
        "        if rotated_score>swapped_score:\n",
        "          swapped_puzzle = rotated_puzzle\n",
        "          swapped_score = rotated_score\n",
        "\n",
        "  max_reached = max(ord)\n",
        "  max_possible = len(p)*(len(p)-1) + len(p[0])*(len(p[0])-1)\n",
        "\n",
        "  print(f\"Score maximal atteint: {max_reached}\")\n",
        "  print(f\"Score maximal possible: {max_possible}\")\n",
        "  print(f\"On en déduit que {100*max_reached/max_possible}% des pièces sont correctement placées\")\n",
        "  plt.plot(abs, ord)\n",
        "  plt.title(\"Score en fonction du nombre d'itérations (avec échange et rotation des pièces)\")\n",
        "  plt.show()"
      ]
    },
    {
      "cell_type": "code",
      "execution_count": null,
      "metadata": {
        "id": "0V5TYiLwvJAk"
      },
      "outputs": [],
      "source": [
        "#Expérience 4\n",
        "#xp4()"
      ]
    },
    {
      "cell_type": "markdown",
      "metadata": {
        "id": "kvtdoByC6l7e"
      },
      "source": [
        "En comparaison avec la deuxième expérience, on constate que la différence de score n'est pas significative. \\\n",
        "De plus, on constate que cette expérience s'exécute en un temps largement plus considérable."
      ]
    },
    {
      "cell_type": "markdown",
      "metadata": {
        "id": "maeKfVvn7Jjc"
      },
      "source": [
        "Essayons l'expérience suivante, issue de la 2ème: \\\n",
        "Pour un nombre d'itérations donné, on effectue des changements de pièces. Puis, pour la meilleure solution obtenue, on réalise des permutations sur l'ensemble des pièces centrales du puzzle."
      ]
    },
    {
      "cell_type": "code",
      "execution_count": null,
      "metadata": {
        "id": "yJcJt65p75nQ"
      },
      "outputs": [],
      "source": [
        "def xp5():\n",
        "\n",
        "  init_puzzle = copy.deepcopy(p)\n",
        "  init_score = match(p)\n",
        "  abs, ord = [], []\n",
        "  for i in range (itr):\n",
        "    abs.append(i)\n",
        "    ord.append(init_score)\n",
        "    swapped_puzzle = swap_1(copy.deepcopy(init_puzzle))\n",
        "    swapped_score = match(swapped_puzzle)\n",
        "    if swapped_score>init_score:\n",
        "      init_puzzle = swapped_puzzle\n",
        "      init_score = swapped_score\n",
        "  count = itr-1\n",
        "  rotated_puzzle = copy.deepcopy(init_puzzle)\n",
        "  for j in range(1, len(init_puzzle)-1):\n",
        "    count += j\n",
        "    for k in range(1, len(init_puzzle[0])-1):\n",
        "      count += k-1\n",
        "      abs.append(count)\n",
        "      piece_to_rotate = rotated_puzzle[j][k]\n",
        "      for angle in range (4):\n",
        "        rotated_piece = [[piece_to_rotate[0][0], piece_to_rotate[0][1] + angle], rotate(piece_to_rotate[1], angle)]\n",
        "        rotated_puzzle[j][k] = rotated_piece\n",
        "        rotated_score = match(rotated_puzzle)\n",
        "        if rotated_score>init_score:\n",
        "            init_puzzle = rotated_puzzle\n",
        "            init_score = rotated_score\n",
        "        else:\n",
        "          rotated_puzzle = copy.deepcopy(init_puzzle)\n",
        "      ord.append(init_score)\n",
        "\n",
        "  max_reached = max(ord)\n",
        "  max_possible = len(p)*(len(p)-1) + len(p[0])*(len(p[0])-1)\n",
        "\n",
        "  print(f\"Score maximal atteint: {max_reached}\")\n",
        "  print(f\"Score maximal possible: {max_possible}\")\n",
        "  print(f\"On en déduit que {100*max_reached/max_possible}% des pièces sont correctement placées\")\n",
        "\n",
        "  plt.plot(abs, ord)\n",
        "  plt.title(\"Score en fonction du nombre d'itérations (avec échange de pièces puis rotation)\")\n",
        "  plt.show()"
      ]
    },
    {
      "cell_type": "code",
      "execution_count": null,
      "metadata": {
        "colab": {
          "base_uri": "https://localhost:8080/",
          "height": 505
        },
        "id": "XgXOlZEJh2Ce",
        "outputId": "8fbd1a2d-2ea4-4944-8ad6-fb549f59afb3"
      },
      "outputs": [
        {
          "name": "stdout",
          "output_type": "stream",
          "text": [
            "Score maximal atteint: 247\n",
            "Score maximal possible: 480\n",
            "On en déduit que 51.458333333333336% des pièces sont correctement placées\n"
          ]
        },
        {
          "data": {
            "image/png": "[encoded data removed]",
            "text/plain": [
              "<Figure size 640x480 with 1 Axes>"
            ]
          },
          "metadata": {},
          "output_type": "display_data"
        }
      ],
      "source": [
        "#Expérience 5\n",
        "xp5()"
      ]
    },
    {
      "cell_type": "markdown",
      "metadata": {
        "id": "hYfNfry6hAJT"
      },
      "source": [
        "En comparant avec l'expérience 2, on constate que l'évolution du score n'est pas significative. Toutefois, les rotations permettent d'améliorer le score à chaque fois sans exiger tant de temps."
      ]
    },
    {
      "cell_type": "markdown",
      "metadata": {
        "id": "5ytuarpAnHE5"
      },
      "source": [
        "Conclusion: J'ai utilisé un algorithme de type recherche locale hybride. \\\n",
        "Seulement, ma recherche locale n'est pas définie selon un voisinage de pièces mais selon leurs catégories. Cette approche me permet d'obtenir de bons résultats.\\\n",
        "Pour essayer de les améliorer encore un peu, j'ai ajouté des rotations une fois le meilleur puzzle obtenu. Encore une fois, le score s'en trouve améliorer, même si c'est de peu. \\\n",
        "Puisque ces résultats sont obtenus dans un temps très satisfaisant (pour 100 000 itérations, j'obtiens en moyenne des scores supérieurs à 240 en 4 minutes). On pourrait alors imaginer répéter cet algorithme plusieurs fois de manière à générer des puzzles parents, puis implémenter un algorithme génétique avec des croisements et des mutations permettant certainement d'améliorer davantage le score. \n"
      ]
    },
    {
      "cell_type": "code",
      "execution_count": null,
      "metadata": {},
      "outputs": [],
      "source": [
        "def xp_final():\n",
        "\n",
        "  init_puzzle = copy.deepcopy(p)\n",
        "  init_score = match(p)\n",
        "  abs, ord = [], []\n",
        "  for i in range (itr):\n",
        "    abs.append(i)\n",
        "    ord.append(init_score)\n",
        "    swapped_puzzle = swap_1(copy.deepcopy(init_puzzle))\n",
        "    swapped_score = match(swapped_puzzle)\n",
        "    if swapped_score>init_score:\n",
        "      init_puzzle = swapped_puzzle\n",
        "      init_score = swapped_score\n",
        "  count = itr-1\n",
        "  rotated_puzzle = copy.deepcopy(init_puzzle)\n",
        "  for j in range(1, len(init_puzzle)-1):\n",
        "    count += j\n",
        "    for k in range(1, len(init_puzzle[0])-1):\n",
        "      count += k-1\n",
        "      abs.append(count)\n",
        "      piece_to_rotate = rotated_puzzle[j][k]\n",
        "      for angle in range (4):\n",
        "        rotated_piece = [[piece_to_rotate[0][0], piece_to_rotate[0][1] + angle], rotate(piece_to_rotate[1], angle)]\n",
        "        rotated_puzzle[j][k] = rotated_piece\n",
        "        rotated_score = match(rotated_puzzle)\n",
        "        if rotated_score>init_score:\n",
        "            init_puzzle = rotated_puzzle\n",
        "            init_score = rotated_score\n",
        "        else:\n",
        "          rotated_puzzle = copy.deepcopy(init_puzzle)\n",
        "      ord.append(init_score)\n",
        "  return init_puzzle"
      ]
    },
    {
      "cell_type": "code",
      "execution_count": null,
      "metadata": {},
      "outputs": [],
      "source": [
        "final_puzzle = xp_final()"
      ]
    },
    {
      "cell_type": "code",
      "execution_count": null,
      "metadata": {},
      "outputs": [
        {
          "name": "stdout",
          "output_type": "stream",
          "text": [
            "234\n"
          ]
        }
      ],
      "source": [
        "print(match(final_puzzle))"
      ]
    },
    {
      "cell_type": "code",
      "execution_count": null,
      "metadata": {},
      "outputs": [],
      "source": [
        "with open(\"eternity_wissemberg_paul.txt\", \"w\") as file:\n",
        "    count = 0\n",
        "    for i in range (len(final_puzzle)):\n",
        "        for j in range (len(final_puzzle[i])):\n",
        "            if count<10:\n",
        "                piece_number = \"00\"+str(count)\n",
        "            elif count>=10 and count<100:\n",
        "                piece_number = \"0\"+str(count)\n",
        "            else:\n",
        "                piece_number = str(count)\n",
        "            count += 1\n",
        "            piece_idx = str(final_puzzle[i][j][0][0])\n",
        "            piece_rotation = str(final_puzzle[i][j][0][1])\n",
        "            file.write(piece_number + \" -> \" + piece_idx + \" \" + piece_rotation + \"\\n\")"
      ]
    },
    {
      "cell_type": "code",
      "execution_count": null,
      "metadata": {},
      "outputs": [],
      "source": [
        "def features(file):\n",
        "  with open(file, \"r\") as f:\n",
        "      pieces = [line.split() for line in f]\n",
        "  #Convert str to int\n",
        "  for piece in pieces:\n",
        "    for i in range(len(piece)):\n",
        "      piece[i] = int(piece[i])\n",
        "  rows, columns = pieces.pop(0)\n",
        "  return (rows, columns, pieces)\n",
        "\n",
        "\n",
        "def categories(pieces):\n",
        "  corners, edges, others = [], [], []\n",
        "  for piece in pieces:\n",
        "    count = 0\n",
        "    for i in range(len(piece)):\n",
        "      if piece[i] == 0:\n",
        "        count += 1\n",
        "    if count == 2:\n",
        "      corners.append(piece)\n",
        "    elif count == 1:\n",
        "      edges.append(piece)\n",
        "    else:\n",
        "      others.append(piece)\n",
        "  return (corners, edges, others)\n",
        "\n",
        "\n",
        "def rotate(piece, angle):\n",
        "  rotated_piece = []\n",
        "  for i in range(angle, len(piece)+angle):\n",
        "    if i%(len(piece)) == 0:\n",
        "      rotated_piece.append(piece[0])\n",
        "    elif i%(len(piece)) == 1:\n",
        "      rotated_piece.append(piece[1])\n",
        "    elif i%(len(piece)) == 2:\n",
        "      rotated_piece.append(piece[2])\n",
        "    elif i%(len(piece)) == 3:\n",
        "      rotated_piece.append(piece[3])\n",
        "  return rotated_piece\n",
        "\n",
        "\n",
        "def correct(piece, row, column):\n",
        "  angle = 0\n",
        "  if row == 0:\n",
        "    if column == 0:  #top left\n",
        "      while (piece[1] != 0) or (piece[2] != 0):\n",
        "        angle += 1\n",
        "        piece = rotate(piece, 1)\n",
        "    elif column == puzzle_height-1:  #top right\n",
        "      while (piece[2] != 0) or (piece[3] != 0):\n",
        "        angle += 1\n",
        "        piece = rotate(piece, 1)\n",
        "    else: #top edges\n",
        "      while piece[2] != 0:\n",
        "        angle += 1\n",
        "        piece = rotate(piece, 1)\n",
        "  elif row == puzzle_width-1:\n",
        "    if column == 0:  #bottom left\n",
        "      while (piece[0] != 0) or (piece[1] != 0):\n",
        "        angle += 1\n",
        "        piece = rotate(piece, 1)\n",
        "    elif column == puzzle_height-1:  #bottom right\n",
        "      while (piece[0] != 0) or (piece[3] != 0):\n",
        "        angle += 1\n",
        "        piece = rotate(piece, 1)\n",
        "    else: #bottom edges\n",
        "      while piece[0] != 0:\n",
        "        angle += 1\n",
        "        piece = rotate(piece, 1)\n",
        "  else:\n",
        "    if column == 0: #left edges\n",
        "      while piece[1] != 0:\n",
        "        angle += 1\n",
        "        piece = rotate(piece, 1)\n",
        "    elif column == puzzle_height-1: #right edges\n",
        "      while piece[3] != 0:\n",
        "        angle += 1\n",
        "        piece = rotate(piece, 1)\n",
        "  #Add the index of the piece\n",
        "  initial_piece = rotate(piece, len(piece)-angle)\n",
        "  piece_idx = puzzle_pieces.index(initial_piece)\n",
        "  return [[piece_idx, angle], piece]\n",
        "\n",
        "\n",
        "def build():\n",
        "  puzzle = []\n",
        "  for i in range (puzzle_width):\n",
        "    sub_puzzle = []\n",
        "    for j in range (puzzle_height):\n",
        "      if (i == 0 or i == puzzle_width-1):\n",
        "        if (j == 0 or j == puzzle_height-1):\n",
        "          sub_puzzle.append(correct(puzzle_corners.pop(random.randint(0, len(puzzle_corners)-1)), i, j))\n",
        "        else:\n",
        "          sub_puzzle.append(correct(puzzle_edges.pop(random.randint(0, len(puzzle_edges)-1)), i, j))\n",
        "      elif (j == 0 or j == puzzle_height-1):\n",
        "        sub_puzzle.append(correct(puzzle_edges.pop(random.randint(0, len(puzzle_edges)-1)), i, j))\n",
        "      else:\n",
        "        sub_puzzle.append(correct(puzzle_others.pop(random.randint(0, len(puzzle_others)-1)), i, j))\n",
        "    puzzle.append(sub_puzzle)\n",
        "  return puzzle\n",
        "\n",
        "\n",
        "def match(puzzle):\n",
        "  score = 0\n",
        "  for i in range (len(puzzle)):\n",
        "    for j in range (len(puzzle[i])-1):\n",
        "      #print(puzzle[i][j][1], puzzle[i][j+1][1], (puzzle[i][j][1][3], puzzle[i][j+1][1][1]))\n",
        "      if puzzle[i][j][1][3] == puzzle[i][j+1][1][1]:\n",
        "        score += 1\n",
        "  #print()\n",
        "  for i in range (len(puzzle)-1):\n",
        "    for j in range (len(puzzle[i])):\n",
        "      #print(puzzle[i][j][1], puzzle[i+1][j][1], (puzzle[i][j][1][0], puzzle[i+1][j][1][2]))\n",
        "      if puzzle[i][j][1][0] == puzzle[i+1][j][1][2]:\n",
        "        score += 1\n",
        "  return score\n",
        "\n",
        "\n",
        "def swap_1(puzzle):\n",
        "\n",
        "  piece_to_swap = random.choice([\"corner\", \"edge\", \"other\"])\n",
        "\n",
        "  if piece_to_swap == \"corner\":\n",
        "    i1, j1 = random.choice([0, len(puzzle)-1]), random.choice([0, len(puzzle[0])-1])\n",
        "    i2, j2 = random.choice([0, len(puzzle)-1]), random.choice([0, len(puzzle[0])-1])\n",
        "    while i2 == i1 and j2 == j1:\n",
        "      i2, j2 = random.choice([0, len(puzzle)-1]), random.choice([0, len(puzzle[0])-1])\n",
        "\n",
        "\n",
        "  elif piece_to_swap == \"edge\":\n",
        "    \n",
        "    i1 = random.randint(0, len(puzzle)-1)\n",
        "    if i1 == 0 or i1 == len(puzzle)-1:\n",
        "      j1 = random.randint(1, len(puzzle[0])-2)\n",
        "    else:\n",
        "      j1 = random.choice([0, len(puzzle[0])-1])\n",
        "    \n",
        "    i2 = random.randint(0, len(puzzle)-1)\n",
        "    if i2 == 0 or i2 == len(puzzle)-1:\n",
        "      j2 = random.randint(1, len(puzzle[0])-2)\n",
        "    else:\n",
        "      j2 = random.choice([0, len(puzzle[0])-1])\n",
        "    while i2 == i1 and j2 == j1:\n",
        "      i2 = random.randint(0, len(puzzle)-1)\n",
        "      if i2 == 0 or i2 == len(puzzle)-1:\n",
        "        j2 = random.randint(1, len(puzzle[0])-2)\n",
        "      else:\n",
        "        j2 = random.choice([0, len(puzzle[0])-1])\n",
        "\n",
        "\n",
        "  else:\n",
        "    i1, j1 = random.randint(1, len(puzzle)-2), random.randint(1, len(puzzle[0])-2)\n",
        "    i2, j2 = random.randint(1, len(puzzle)-2), random.randint(1, len(puzzle[0])-2)\n",
        "    while i2 == i1 and j2 == j1:\n",
        "      i2, j2 = random.randint(1, len(puzzle)-2), random.randint(1, len(puzzle[0])-2)\n",
        "\n",
        "  piece1, piece2 = puzzle[i1][j1], puzzle[i2][j2]\n",
        "  puzzle[i1][j1], puzzle[i2][j2] = correct(rotate(piece2[1], 4-piece2[0][1]), i1, j1), correct(rotate(piece1[1], 4-piece1[0][1]), i2, j2)\n",
        "\n",
        "  return puzzle\n",
        "\n",
        "\n",
        "def xp2():\n",
        "\n",
        "  init_puzzle = copy.deepcopy(p)\n",
        "  init_score = match(p)\n",
        "  abs, ord = [], []\n",
        "  for i in range (itr):\n",
        "    abs.append(i)\n",
        "    ord.append(init_score)\n",
        "    swapped_puzzle = swap_1(copy.deepcopy(init_puzzle))\n",
        "    swapped_score = match(swapped_puzzle)\n",
        "    if swapped_score>init_score:\n",
        "      init_puzzle = swapped_puzzle\n",
        "      init_score = swapped_score\n",
        "  \n",
        "  max_reached = max(ord)\n",
        "  max_possible = len(p)*(len(p)-1) + len(p[0])*(len(p[0])-1)\n",
        "\n",
        "  print(f\"Score maximal atteint: {max_reached}\")\n",
        "  print(f\"Score maximal possible: {max_possible}\")\n",
        "  print(f\"On en déduit que {100*max_reached/max_possible}% des pièces sont correctement placées\")\n",
        "  plt.plot(abs, ord)\n",
        "  plt.title(\"Score en fonction du nombre d'itérations (avec échange de pièces uniquement)\")\n",
        "  plt.show()"
      ]
    }
  ],
  "metadata": {
    "colab": {
      "provenance": []
    },
    "kernelspec": {
      "display_name": "Python 3",
      "name": "python3"
    },
    "language_info": {
      "codemirror_mode": {
        "name": "ipython",
        "version": 3
      },
      "file_extension": ".py",
      "mimetype": "text/x-python",
      "name": "python",
      "nbconvert_exporter": "python",
      "pygments_lexer": "ipython3",
      "version": "3.10.11"
    }
  },
  "nbformat": 4,
  "nbformat_minor": 0
}
